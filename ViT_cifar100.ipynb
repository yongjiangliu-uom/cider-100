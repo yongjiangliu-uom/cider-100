{
 "cells": [
  {
   "cell_type": "code",
   "execution_count": null,
   "id": "6044e788",
   "metadata": {},
   "outputs": [],
   "source": [
    "import os\n",
    "import torch\n",
    "import torch.nn as nn\n",
    "import torch.optim as optim\n",
    "from torch.utils.data import DataLoader\n",
    "from torchvision import datasets, transforms\n",
    "from torchvision.models import vit_b_16, ViT_B_16_Weights\n",
    "import matplotlib.pyplot as plt\n",
    "from tqdm import tqdm"
   ]
  },
  {
   "cell_type": "code",
   "execution_count": null,
   "id": "004208fe",
   "metadata": {},
   "outputs": [],
   "source": [
    "device = torch.device(\"cuda\" if torch.cuda.is_available() else \"cpu\")\n",
    "print(f\"Using device: {device}\")\n",
    "\n",
    "batch_size = 128\n",
    "num_epochs = 20\n",
    "learning_rate = 1e-4\n",
    "weight_decay = 1e-4\n",
    "\n",
    "\n",
    "transform_train = transforms.Compose([\n",
    "    transforms.RandomCrop(32, padding=4),\n",
    "    transforms.RandomHorizontalFlip(),\n",
    "    transforms.Resize(224),  \n",
    "    transforms.ToTensor(),\n",
    "    transforms.Normalize((0.5071, 0.4867, 0.4408), (0.2675, 0.2565, 0.2761))\n",
    "])\n",
    "\n",
    "transform_test = transforms.Compose([\n",
    "    transforms.Resize(224),  \n",
    "    transforms.ToTensor(),\n",
    "    transforms.Normalize((0.5071, 0.4867, 0.4408), (0.2675, 0.2565, 0.2761))\n",
    "])"
   ]
  },
  {
   "cell_type": "code",
   "execution_count": null,
   "id": "6003093f",
   "metadata": {},
   "outputs": [],
   "source": [
    "train_dataset = datasets.CIFAR100(\n",
    "    root='./data', \n",
    "    train=True, \n",
    "    download=True, \n",
    "    transform=transform_train\n",
    ")\n",
    "\n",
    "test_dataset = datasets.CIFAR100(\n",
    "    root='./data', \n",
    "    train=False, \n",
    "    download=True, \n",
    "    transform=transform_test\n",
    ")\n",
    "\n",
    "train_loader = DataLoader(\n",
    "    train_dataset, \n",
    "    batch_size=batch_size, \n",
    "    shuffle=True, \n",
    "    num_workers=4\n",
    ")\n",
    "\n",
    "test_loader = DataLoader(\n",
    "    test_dataset, \n",
    "    batch_size=batch_size, \n",
    "    shuffle=False, \n",
    "    num_workers=4\n",
    ")"
   ]
  },
  {
   "cell_type": "code",
   "execution_count": null,
   "id": "7abe8830",
   "metadata": {},
   "outputs": [],
   "source": [
    "model = vit_b_16(weights=ViT_B_16_Weights.IMAGENET1K_V1)\n",
    "\n",
    "\n",
    "num_classes = 100\n",
    "in_features = model.heads.head.in_features\n",
    "model.heads.head = nn.Linear(in_features, num_classes)\n",
    "\n",
    "\n",
    "model = model.to(device)\n",
    "\n",
    "\n",
    "criterion = nn.CrossEntropyLoss()\n",
    "optimizer = optim.AdamW(model.parameters(), lr=learning_rate, weight_decay=weight_decay)\n",
    "\n",
    "\n",
    "scheduler = optim.lr_scheduler.CosineAnnealingLR(optimizer, T_max=num_epochs)\n"
   ]
  },
  {
   "cell_type": "code",
   "execution_count": null,
   "id": "304ce954-745e-4256-be19-1a25525bd80b",
   "metadata": {},
   "outputs": [
    {
     "name": "stderr",
     "output_type": "stream",
     "text": [
      "/environment/miniconda3/lib/python3.11/site-packages/tqdm/auto.py:21: TqdmWarning: IProgress not found. Please update jupyter and ipywidgets. See https://ipywidgets.readthedocs.io/en/stable/user_install.html\n",
      "  from .autonotebook import tqdm as notebook_tqdm\n"
     ]
    },
    {
     "name": "stdout",
     "output_type": "stream",
     "text": [
      "Using device: cuda\n",
      "Files already downloaded and verified\n",
      "Files already downloaded and verified\n"
     ]
    },
    {
     "name": "stderr",
     "output_type": "stream",
     "text": [
      "Epoch 1/20: 100%|██████████| 391/391 [03:15<00:00,  2.00it/s, loss=1.09, acc=73.6]\n",
      "Testing: 100%|██████████| 79/79 [00:12<00:00,  6.24it/s, loss=0.61, acc=82.4] \n"
     ]
    },
    {
     "name": "stdout",
     "output_type": "stream",
     "text": [
      "Saving best model with accuracy: 82.38%\n",
      "Epoch: 1/20\n",
      "Train Loss: 1.0879 | Train Acc: 73.60%\n",
      "Test Loss: 0.6096 | Test Acc: 82.38%\n",
      "----------------------------------------------------------------------\n"
     ]
    },
    {
     "name": "stderr",
     "output_type": "stream",
     "text": [
      "Epoch 2/20: 100%|██████████| 391/391 [03:16<00:00,  1.99it/s, loss=0.433, acc=87.1]\n",
      "Testing: 100%|██████████| 79/79 [00:12<00:00,  6.23it/s, loss=0.555, acc=83.3]\n"
     ]
    },
    {
     "name": "stdout",
     "output_type": "stream",
     "text": [
      "Saving best model with accuracy: 83.30%\n",
      "Epoch: 2/20\n",
      "Train Loss: 0.4330 | Train Acc: 87.13%\n",
      "Test Loss: 0.5548 | Test Acc: 83.30%\n",
      "----------------------------------------------------------------------\n"
     ]
    },
    {
     "name": "stderr",
     "output_type": "stream",
     "text": [
      "Epoch 3/20: 100%|██████████| 391/391 [03:16<00:00,  1.99it/s, loss=0.3, acc=90.8]  \n",
      "Testing: 100%|██████████| 79/79 [00:12<00:00,  6.23it/s, loss=0.501, acc=84.9]\n"
     ]
    },
    {
     "name": "stdout",
     "output_type": "stream",
     "text": [
      "Saving best model with accuracy: 84.92%\n",
      "Epoch: 3/20\n",
      "Train Loss: 0.2998 | Train Acc: 90.77%\n",
      "Test Loss: 0.5009 | Test Acc: 84.92%\n",
      "----------------------------------------------------------------------\n"
     ]
    },
    {
     "name": "stderr",
     "output_type": "stream",
     "text": [
      "Epoch 4/20: 100%|██████████| 391/391 [03:16<00:00,  1.99it/s, loss=0.216, acc=93.1]\n",
      "Testing: 100%|██████████| 79/79 [00:12<00:00,  6.25it/s, loss=0.495, acc=86.2]\n"
     ]
    },
    {
     "name": "stdout",
     "output_type": "stream",
     "text": [
      "Saving best model with accuracy: 86.23%\n",
      "Epoch: 4/20\n",
      "Train Loss: 0.2158 | Train Acc: 93.15%\n",
      "Test Loss: 0.4955 | Test Acc: 86.23%\n",
      "----------------------------------------------------------------------\n"
     ]
    },
    {
     "name": "stderr",
     "output_type": "stream",
     "text": [
      "Epoch 5/20: 100%|██████████| 391/391 [03:16<00:00,  1.99it/s, loss=0.148, acc=95.2]\n",
      "Testing: 100%|██████████| 79/79 [00:12<00:00,  6.25it/s, loss=0.514, acc=85.9]\n"
     ]
    },
    {
     "name": "stdout",
     "output_type": "stream",
     "text": [
      "Epoch: 5/20\n",
      "Train Loss: 0.1483 | Train Acc: 95.22%\n",
      "Test Loss: 0.5140 | Test Acc: 85.90%\n",
      "----------------------------------------------------------------------\n"
     ]
    },
    {
     "name": "stderr",
     "output_type": "stream",
     "text": [
      "Epoch 6/20: 100%|██████████| 391/391 [03:16<00:00,  1.99it/s, loss=0.122, acc=96.2]\n",
      "Testing: 100%|██████████| 79/79 [00:12<00:00,  6.23it/s, loss=0.54, acc=85.8] \n"
     ]
    },
    {
     "name": "stdout",
     "output_type": "stream",
     "text": [
      "Epoch: 6/20\n",
      "Train Loss: 0.1222 | Train Acc: 96.19%\n",
      "Test Loss: 0.5401 | Test Acc: 85.76%\n",
      "----------------------------------------------------------------------\n"
     ]
    },
    {
     "name": "stderr",
     "output_type": "stream",
     "text": [
      "Epoch 7/20: 100%|██████████| 391/391 [03:16<00:00,  1.99it/s, loss=0.0903, acc=97.1]\n",
      "Testing: 100%|██████████| 79/79 [00:12<00:00,  6.23it/s, loss=0.553, acc=85.9]\n"
     ]
    },
    {
     "name": "stdout",
     "output_type": "stream",
     "text": [
      "Epoch: 7/20\n",
      "Train Loss: 0.0903 | Train Acc: 97.12%\n",
      "Test Loss: 0.5529 | Test Acc: 85.92%\n",
      "----------------------------------------------------------------------\n"
     ]
    },
    {
     "name": "stderr",
     "output_type": "stream",
     "text": [
      "Epoch 8/20: 100%|██████████| 391/391 [03:16<00:00,  1.99it/s, loss=0.07, acc=97.8]  \n",
      "Testing: 100%|██████████| 79/79 [00:12<00:00,  6.23it/s, loss=0.529, acc=86.5]\n"
     ]
    },
    {
     "name": "stdout",
     "output_type": "stream",
     "text": [
      "Saving best model with accuracy: 86.46%\n",
      "Epoch: 8/20\n",
      "Train Loss: 0.0700 | Train Acc: 97.78%\n",
      "Test Loss: 0.5295 | Test Acc: 86.46%\n",
      "----------------------------------------------------------------------\n"
     ]
    },
    {
     "name": "stderr",
     "output_type": "stream",
     "text": [
      "Epoch 9/20: 100%|██████████| 391/391 [03:16<00:00,  1.99it/s, loss=0.0512, acc=98.5]\n",
      "Testing: 100%|██████████| 79/79 [00:12<00:00,  6.25it/s, loss=0.518, acc=87.3]\n"
     ]
    },
    {
     "name": "stdout",
     "output_type": "stream",
     "text": [
      "Saving best model with accuracy: 87.30%\n",
      "Epoch: 9/20\n",
      "Train Loss: 0.0512 | Train Acc: 98.46%\n",
      "Test Loss: 0.5181 | Test Acc: 87.30%\n",
      "----------------------------------------------------------------------\n"
     ]
    },
    {
     "name": "stderr",
     "output_type": "stream",
     "text": [
      "Epoch 10/20: 100%|██████████| 391/391 [03:16<00:00,  1.99it/s, loss=0.0358, acc=98.9]\n",
      "Testing: 100%|██████████| 79/79 [00:12<00:00,  6.23it/s, loss=0.555, acc=87]  \n"
     ]
    },
    {
     "name": "stdout",
     "output_type": "stream",
     "text": [
      "Epoch: 10/20\n",
      "Train Loss: 0.0358 | Train Acc: 98.88%\n",
      "Test Loss: 0.5553 | Test Acc: 87.03%\n",
      "----------------------------------------------------------------------\n"
     ]
    },
    {
     "name": "stderr",
     "output_type": "stream",
     "text": [
      "Epoch 11/20: 100%|██████████| 391/391 [03:16<00:00,  1.99it/s, loss=0.025, acc=99.2] \n",
      "Testing: 100%|██████████| 79/79 [00:12<00:00,  6.25it/s, loss=0.554, acc=87.5]\n"
     ]
    },
    {
     "name": "stdout",
     "output_type": "stream",
     "text": [
      "Saving best model with accuracy: 87.51%\n",
      "Epoch: 11/20\n",
      "Train Loss: 0.0250 | Train Acc: 99.25%\n",
      "Test Loss: 0.5539 | Test Acc: 87.51%\n",
      "----------------------------------------------------------------------\n"
     ]
    },
    {
     "name": "stderr",
     "output_type": "stream",
     "text": [
      "Epoch 12/20: 100%|██████████| 391/391 [03:16<00:00,  1.99it/s, loss=0.0177, acc=99.5]\n",
      "Testing: 100%|██████████| 79/79 [00:12<00:00,  6.21it/s, loss=0.56, acc=87.4] \n"
     ]
    },
    {
     "name": "stdout",
     "output_type": "stream",
     "text": [
      "Epoch: 12/20\n",
      "Train Loss: 0.0177 | Train Acc: 99.46%\n",
      "Test Loss: 0.5597 | Test Acc: 87.43%\n",
      "----------------------------------------------------------------------\n"
     ]
    },
    {
     "name": "stderr",
     "output_type": "stream",
     "text": [
      "Epoch 13/20: 100%|██████████| 391/391 [03:16<00:00,  1.99it/s, loss=0.0129, acc=99.6]\n",
      "Testing: 100%|██████████| 79/79 [00:12<00:00,  6.24it/s, loss=0.549, acc=88]  \n"
     ]
    },
    {
     "name": "stdout",
     "output_type": "stream",
     "text": [
      "Saving best model with accuracy: 88.01%\n",
      "Epoch: 13/20\n",
      "Train Loss: 0.0129 | Train Acc: 99.64%\n",
      "Test Loss: 0.5490 | Test Acc: 88.01%\n",
      "----------------------------------------------------------------------\n"
     ]
    },
    {
     "name": "stderr",
     "output_type": "stream",
     "text": [
      "Epoch 14/20: 100%|██████████| 391/391 [03:16<00:00,  1.99it/s, loss=0.00871, acc=99.8]\n",
      "Testing: 100%|██████████| 79/79 [00:12<00:00,  6.24it/s, loss=0.552, acc=88.2]\n"
     ]
    },
    {
     "name": "stdout",
     "output_type": "stream",
     "text": [
      "Saving best model with accuracy: 88.16%\n",
      "Epoch: 14/20\n",
      "Train Loss: 0.0087 | Train Acc: 99.77%\n",
      "Test Loss: 0.5523 | Test Acc: 88.16%\n",
      "----------------------------------------------------------------------\n"
     ]
    },
    {
     "name": "stderr",
     "output_type": "stream",
     "text": [
      "Epoch 15/20: 100%|██████████| 391/391 [03:16<00:00,  1.99it/s, loss=0.00578, acc=99.8]\n",
      "Testing: 100%|██████████| 79/79 [00:12<00:00,  6.24it/s, loss=0.559, acc=88.4]\n"
     ]
    },
    {
     "name": "stdout",
     "output_type": "stream",
     "text": [
      "Saving best model with accuracy: 88.38%\n",
      "Epoch: 15/20\n",
      "Train Loss: 0.0058 | Train Acc: 99.84%\n",
      "Test Loss: 0.5591 | Test Acc: 88.38%\n",
      "----------------------------------------------------------------------\n"
     ]
    },
    {
     "name": "stderr",
     "output_type": "stream",
     "text": [
      "Epoch 16/20: 100%|██████████| 391/391 [03:16<00:00,  1.99it/s, loss=0.00419, acc=99.9]\n",
      "Testing: 100%|██████████| 79/79 [00:12<00:00,  6.25it/s, loss=0.56, acc=88.3] \n"
     ]
    },
    {
     "name": "stdout",
     "output_type": "stream",
     "text": [
      "Epoch: 16/20\n",
      "Train Loss: 0.0042 | Train Acc: 99.87%\n",
      "Test Loss: 0.5600 | Test Acc: 88.34%\n",
      "----------------------------------------------------------------------\n"
     ]
    },
    {
     "name": "stderr",
     "output_type": "stream",
     "text": [
      "Epoch 17/20: 100%|██████████| 391/391 [03:16<00:00,  1.99it/s, loss=0.00298, acc=99.9]\n",
      "Testing: 100%|██████████| 79/79 [00:12<00:00,  6.24it/s, loss=0.549, acc=88.8]\n"
     ]
    },
    {
     "name": "stdout",
     "output_type": "stream",
     "text": [
      "Saving best model with accuracy: 88.78%\n",
      "Epoch: 17/20\n",
      "Train Loss: 0.0030 | Train Acc: 99.92%\n",
      "Test Loss: 0.5491 | Test Acc: 88.78%\n",
      "----------------------------------------------------------------------\n"
     ]
    },
    {
     "name": "stderr",
     "output_type": "stream",
     "text": [
      "Epoch 18/20: 100%|██████████| 391/391 [03:16<00:00,  1.99it/s, loss=0.00202, acc=100] \n",
      "Testing: 100%|██████████| 79/79 [00:12<00:00,  6.22it/s, loss=0.548, acc=89.2]\n"
     ]
    },
    {
     "name": "stdout",
     "output_type": "stream",
     "text": [
      "Saving best model with accuracy: 89.15%\n",
      "Epoch: 18/20\n",
      "Train Loss: 0.0020 | Train Acc: 99.96%\n",
      "Test Loss: 0.5478 | Test Acc: 89.15%\n",
      "----------------------------------------------------------------------\n"
     ]
    },
    {
     "name": "stderr",
     "output_type": "stream",
     "text": [
      "Epoch 19/20: 100%|██████████| 391/391 [03:16<00:00,  1.99it/s, loss=0.00194, acc=100] \n",
      "Testing: 100%|██████████| 79/79 [00:12<00:00,  6.23it/s, loss=0.548, acc=89]  \n"
     ]
    },
    {
     "name": "stdout",
     "output_type": "stream",
     "text": [
      "Epoch: 19/20\n",
      "Train Loss: 0.0019 | Train Acc: 99.95%\n",
      "Test Loss: 0.5480 | Test Acc: 89.04%\n",
      "----------------------------------------------------------------------\n"
     ]
    },
    {
     "name": "stderr",
     "output_type": "stream",
     "text": [
      "Epoch 20/20: 100%|██████████| 391/391 [03:16<00:00,  1.99it/s, loss=0.0019, acc=99.9] \n",
      "Testing: 100%|██████████| 79/79 [00:12<00:00,  6.26it/s, loss=0.548, acc=89]  \n"
     ]
    },
    {
     "name": "stdout",
     "output_type": "stream",
     "text": [
      "Epoch: 20/20\n",
      "Train Loss: 0.0019 | Train Acc: 99.94%\n",
      "Test Loss: 0.5476 | Test Acc: 88.95%\n",
      "----------------------------------------------------------------------\n"
     ]
    },
    {
     "data": {
      "image/png": "[encoded data removed]",
      "text/plain": [
       "<Figure size 1200x500 with 2 Axes>"
      ]
     },
     "metadata": {},
     "output_type": "display_data"
    },
    {
     "name": "stderr",
     "output_type": "stream",
     "text": [
      "Final Evaluation: 100%|██████████| 79/79 [00:12<00:00,  6.31it/s]"
     ]
    },
    {
     "name": "stdout",
     "output_type": "stream",
     "text": [
      "Best model accuracy on test set: 89.15%\n"
     ]
    },
    {
     "name": "stderr",
     "output_type": "stream",
     "text": [
      "\n"
     ]
    }
   ],
   "source": [
    "train_losses = []\n",
    "test_losses = []\n",
    "train_accs = []\n",
    "test_accs = []\n",
    "\n",
    "\n",
    "best_model_path = 'best_vit_cifar100.pth'\n",
    "best_acc = 0.0\n",
    "\n",
    "\n",
    "def train(epoch):\n",
    "    model.train()\n",
    "    running_loss = 0.0\n",
    "    correct = 0\n",
    "    total = 0\n",
    "    \n",
    "    progress_bar = tqdm(train_loader, desc=f'Epoch {epoch+1}/{num_epochs}')\n",
    "    for batch_idx, (inputs, targets) in enumerate(progress_bar):\n",
    "        inputs, targets = inputs.to(device), targets.to(device)\n",
    "        \n",
    "\n",
    "        optimizer.zero_grad()\n",
    "        \n",
    "\n",
    "        outputs = model(inputs)\n",
    "        loss = criterion(outputs, targets)\n",
    "        \n",
    "\n",
    "        loss.backward()\n",
    "        optimizer.step()\n",
    "        \n",
    "\n",
    "        running_loss += loss.item()\n",
    "        _, predicted = outputs.max(1)\n",
    "        total += targets.size(0)\n",
    "        correct += predicted.eq(targets).sum().item()\n",
    "        \n",
    "\n",
    "        progress_bar.set_postfix({\n",
    "            'loss': running_loss/(batch_idx+1), \n",
    "            'acc': 100.*correct/total\n",
    "        })\n",
    "    \n",
    "    train_loss = running_loss/len(train_loader)\n",
    "    train_acc = 100.*correct/total\n",
    "    \n",
    "    train_losses.append(train_loss)\n",
    "    train_accs.append(train_acc)\n",
    "    \n",
    "    return train_loss, train_acc\n",
    "\n",
    "\n",
    "def test(epoch):\n",
    "    global best_acc\n",
    "    model.eval()\n",
    "    running_loss = 0.0\n",
    "    correct = 0\n",
    "    total = 0\n",
    "    \n",
    "    with torch.no_grad():\n",
    "        progress_bar = tqdm(test_loader, desc='Testing')\n",
    "        for batch_idx, (inputs, targets) in enumerate(progress_bar):\n",
    "            inputs, targets = inputs.to(device), targets.to(device)\n",
    "            \n",
    "\n",
    "            outputs = model(inputs)\n",
    "            loss = criterion(outputs, targets)\n",
    "            \n",
    "\n",
    "            running_loss += loss.item()\n",
    "            _, predicted = outputs.max(1)\n",
    "            total += targets.size(0)\n",
    "            correct += predicted.eq(targets).sum().item()\n",
    "            \n",
    "\n",
    "            progress_bar.set_postfix({\n",
    "                'loss': running_loss/(batch_idx+1), \n",
    "                'acc': 100.*correct/total\n",
    "            })\n",
    "    \n",
    "    test_loss = running_loss/len(test_loader)\n",
    "    test_acc = 100.*correct/total\n",
    "    \n",
    "    test_losses.append(test_loss)\n",
    "    test_accs.append(test_acc)\n",
    "    \n",
    "\n",
    "    if test_acc > best_acc:\n",
    "        print(f'Saving best model with accuracy: {test_acc:.2f}%')\n",
    "        best_acc = test_acc\n",
    "        torch.save(model.state_dict(), best_model_path)\n",
    "    \n",
    "    return test_loss, test_acc\n",
    "\n",
    "\n",
    "for epoch in range(num_epochs):\n",
    "    train_loss, train_acc = train(epoch)\n",
    "    test_loss, test_acc = test(epoch)\n",
    "    \n",
    "\n",
    "    scheduler.step()\n",
    "    \n",
    "    print(f'Epoch: {epoch+1}/{num_epochs}')\n",
    "    print(f'Train Loss: {train_loss:.4f} | Train Acc: {train_acc:.2f}%')\n",
    "    print(f'Test Loss: {test_loss:.4f} | Test Acc: {test_acc:.2f}%')\n",
    "    print('-' * 70)\n",
    "\n",
    "plt.figure(figsize=(12, 5))\n",
    "\n",
    "plt.subplot(1, 2, 1)\n",
    "plt.plot(train_losses, label='Train Loss')\n",
    "plt.plot(test_losses, label='Test Loss')\n",
    "plt.xlabel('Epochs')\n",
    "plt.ylabel('Loss')\n",
    "plt.legend()\n",
    "plt.title('Loss Curves')\n",
    "\n",
    "plt.subplot(1, 2, 2)\n",
    "plt.plot(train_accs, label='Train Accuracy')\n",
    "plt.plot(test_accs, label='Test Accuracy')\n",
    "plt.xlabel('Epochs')\n",
    "plt.ylabel('Accuracy (%)')\n",
    "plt.legend()\n",
    "plt.title('Accuracy Curves')\n",
    "\n",
    "plt.tight_layout()\n",
    "plt.savefig('vit_cifar100_training_curves.png')\n",
    "plt.show()\n",
    "\n",
    "model.load_state_dict(torch.load(best_model_path))\n",
    "model.eval()\n",
    "\n",
    "correct = 0\n",
    "total = 0\n",
    "\n",
    "with torch.no_grad():\n",
    "    for inputs, targets in tqdm(test_loader, desc='Final Evaluation'):\n",
    "        inputs, targets = inputs.to(device), targets.to(device)\n",
    "        outputs = model(inputs)\n",
    "        _, predicted = outputs.max(1)\n",
    "        total += targets.size(0)\n",
    "        correct += predicted.eq(targets).sum().item()\n",
    "\n",
    "print(f'Best model accuracy on test set: {100.*correct/total:.2f}%')"
   ]
  }
 ],
 "metadata": {
  "kernelspec": {
   "display_name": "Python 3 (ipykernel)",
   "language": "python",
   "name": "python3"
  },
  "language_info": {
   "codemirror_mode": {
    "name": "ipython",
    "version": 3
   },
   "file_extension": ".py",
   "mimetype": "text/x-python",
   "name": "python",
   "nbconvert_exporter": "python",
   "pygments_lexer": "ipython3",
   "version": "3.11.8"
  }
 },
 "nbformat": 4,
 "nbformat_minor": 5
}
