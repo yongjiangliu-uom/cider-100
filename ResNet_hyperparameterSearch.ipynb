{
 "cells": [
  {
   "cell_type": "code",
   "execution_count": null,
   "id": "83992034",
   "metadata": {},
   "outputs": [],
   "source": [
    "import os\n",
    "import gc\n",
    "import torch\n",
    "import torch.nn as nn\n",
    "import torch.optim as optim\n",
    "from torch.utils.data import DataLoader\n",
    "from torchvision import datasets, transforms, models\n",
    "import matplotlib.pyplot as plt\n",
    "import numpy as np\n",
    "from tqdm import tqdm"
   ]
  },
  {
   "cell_type": "code",
   "execution_count": null,
   "id": "d2768042",
   "metadata": {},
   "outputs": [],
   "source": [
    "# Set up device\n",
    "device = torch.device(\"cuda\" if torch.cuda.is_available() else \"cpu\")\n",
    "print(f\"Using device: {device}\")\n",
    "\n",
    "# Clear CUDA cache if GPU is available\n",
    "if torch.cuda.is_available():\n",
    "    torch.cuda.empty_cache()\n",
    "    print(f\"Initial GPU memory allocated: {torch.cuda.memory_allocated() / 1024**2:.2f} MB\")\n",
    "    print(f\"Initial GPU memory cached: {torch.cuda.memory_reserved() / 1024**2:.2f} MB\")\n",
    "\n",
    "# Set random seed for reproducibility\n",
    "seed = 42\n",
    "torch.manual_seed(seed)\n",
    "np.random.seed(seed)"
   ]
  },
  {
   "cell_type": "code",
   "execution_count": null,
   "id": "40b25ca7",
   "metadata": {},
   "outputs": [],
   "source": [
    "# Training hyperparameters\n",
    "arch = 'resnet101'  # Options: 'resnet18', 'resnet34', 'resnet50', 'resnet101'\n",
    "batch_size = 128\n",
    "test_batch_size = 128\n",
    "epochs = 100\n",
    "learning_rate = 0.01\n",
    "momentum = 0.9\n",
    "weight_decay = 5e-4\n",
    "num_workers = 2\n",
    "save_model = True\n",
    "pretrained = False"
   ]
  },
  {
   "cell_type": "code",
   "execution_count": null,
   "id": "ab6c2cf3",
   "metadata": {},
   "outputs": [],
   "source": [
    "# Helper function to print GPU memory usage\n",
    "def print_gpu_memory():\n",
    "    if torch.cuda.is_available():\n",
    "        print(f\"GPU memory allocated: {torch.cuda.memory_allocated() / 1024**2:.2f} MB\")\n",
    "        print(f\"GPU memory cached: {torch.cuda.memory_reserved() / 1024**2:.2f} MB\")\n",
    "\n",
    "# Helper function to clear memory\n",
    "def clear_memory():\n",
    "    gc.collect()\n",
    "    if torch.cuda.is_available():\n",
    "        torch.cuda.empty_cache()"
   ]
  },
  {
   "cell_type": "code",
   "execution_count": null,
   "id": "4437ad18",
   "metadata": {},
   "outputs": [],
   "source": [
    "# Get ResNet model\n",
    "def get_model(architecture, num_classes=100, use_pretrained=True):\n",
    "    \"\"\"\n",
    "    Create a ResNet model with the specified architecture\n",
    "    \n",
    "    Args:\n",
    "        architecture: ResNet variant (resnet18, resnet34, resnet50, or resnet101)\n",
    "        num_classes: Number of output classes\n",
    "        use_pretrained: Whether to use ImageNet pretrained weights\n",
    "    \n",
    "    Returns:\n",
    "        PyTorch ResNet model\n",
    "    \"\"\"\n",
    "    if architecture == 'resnet18':\n",
    "        model = models.resnet18(weights='IMAGENET1K_V1' if use_pretrained else None)\n",
    "    elif architecture == 'resnet34':\n",
    "        model = models.resnet34(weights='IMAGENET1K_V1' if use_pretrained else None)\n",
    "    elif architecture == 'resnet50':\n",
    "        model = models.resnet50(weights='IMAGENET1K_V1' if use_pretrained else None)\n",
    "    elif architecture == 'resnet101':\n",
    "        model = models.resnet101(weights='IMAGENET1K_V1' if use_pretrained else None)\n",
    "    else:\n",
    "        raise ValueError(f\"Unsupported architecture: {architecture}\")\n",
    "    \n",
    "    # Modify the final fully connected layer to match CIFAR-100 classes\n",
    "    in_features = model.fc.in_features\n",
    "    model.fc = nn.Linear(in_features, num_classes)\n",
    "    return model"
   ]
  },
  {
   "cell_type": "code",
   "execution_count": null,
   "id": "692e4ee8-a150-4477-ba35-bc5394cb83cb",
   "metadata": {},
   "outputs": [
    {
     "name": "stdout",
     "output_type": "stream",
     "text": [
      "Using device: cuda\n",
      "Initial GPU memory allocated: 479.21 MB\n",
      "Initial GPU memory cached: 916.00 MB\n",
      "Files already downloaded and verified\n",
      "Files already downloaded and verified\n",
      "Using resnet101 architecture\n",
      "ResNet(\n",
      "  (conv1): Conv2d(3, 64, kernel_size=(7, 7), stride=(2, 2), padding=(3, 3), bias=False)\n",
      "  (bn1): BatchNorm2d(64, eps=1e-05, momentum=0.1, affine=True, track_running_stats=True)\n",
      "  (relu): ReLU(inplace=True)\n",
      "  (maxpool): MaxPool2d(kernel_size=3, stride=2, padding=1, dilation=1, ceil_mode=False)\n",
      "  (layer1): Sequential(\n",
      "    (0): Bottleneck(\n",
      "      (conv1): Conv2d(64, 64, kernel_size=(1, 1), stride=(1, 1), bias=False)\n",
      "      (bn1): BatchNorm2d(64, eps=1e-05, momentum=0.1, affine=True, track_running_stats=True)\n",
      "      (conv2): Conv2d(64, 64, kernel_size=(3, 3), stride=(1, 1), padding=(1, 1), bias=False)\n",
      "      (bn2): BatchNorm2d(64, eps=1e-05, momentum=0.1, affine=True, track_running_stats=True)\n",
      "      (conv3): Conv2d(64, 256, kernel_size=(1, 1), stride=(1, 1), bias=False)\n",
      "      (bn3): BatchNorm2d(256, eps=1e-05, momentum=0.1, affine=True, track_running_stats=True)\n",
      "      (relu): ReLU(inplace=True)\n",
      "      (downsample): Sequential(\n",
      "        (0): Conv2d(64, 256, kernel_size=(1, 1), stride=(1, 1), bias=False)\n",
      "        (1): BatchNorm2d(256, eps=1e-05, momentum=0.1, affine=True, track_running_stats=True)\n",
      "      )\n",
      "    )\n",
      "    (1): Bottleneck(\n",
      "      (conv1): Conv2d(256, 64, kernel_size=(1, 1), stride=(1, 1), bias=False)\n",
      "      (bn1): BatchNorm2d(64, eps=1e-05, momentum=0.1, affine=True, track_running_stats=True)\n",
      "      (conv2): Conv2d(64, 64, kernel_size=(3, 3), stride=(1, 1), padding=(1, 1), bias=False)\n",
      "      (bn2): BatchNorm2d(64, eps=1e-05, momentum=0.1, affine=True, track_running_stats=True)\n",
      "      (conv3): Conv2d(64, 256, kernel_size=(1, 1), stride=(1, 1), bias=False)\n",
      "      (bn3): BatchNorm2d(256, eps=1e-05, momentum=0.1, affine=True, track_running_stats=True)\n",
      "      (relu): ReLU(inplace=True)\n",
      "    )\n",
      "    (2): Bottleneck(\n",
      "      (conv1): Conv2d(256, 64, kernel_size=(1, 1), stride=(1, 1), bias=False)\n",
      "      (bn1): BatchNorm2d(64, eps=1e-05, momentum=0.1, affine=True, track_running_stats=True)\n",
      "      (conv2): Conv2d(64, 64, kernel_size=(3, 3), stride=(1, 1), padding=(1, 1), bias=False)\n",
      "      (bn2): BatchNorm2d(64, eps=1e-05, momentum=0.1, affine=True, track_running_stats=True)\n",
      "      (conv3): Conv2d(64, 256, kernel_size=(1, 1), stride=(1, 1), bias=False)\n",
      "      (bn3): BatchNorm2d(256, eps=1e-05, momentum=0.1, affine=True, track_running_stats=True)\n",
      "      (relu): ReLU(inplace=True)\n",
      "    )\n",
      "  )\n",
      "  (layer2): Sequential(\n",
      "    (0): Bottleneck(\n",
      "      (conv1): Conv2d(256, 128, kernel_size=(1, 1), stride=(1, 1), bias=False)\n",
      "      (bn1): BatchNorm2d(128, eps=1e-05, momentum=0.1, affine=True, track_running_stats=True)\n",
      "      (conv2): Conv2d(128, 128, kernel_size=(3, 3), stride=(2, 2), padding=(1, 1), bias=False)\n",
      "      (bn2): BatchNorm2d(128, eps=1e-05, momentum=0.1, affine=True, track_running_stats=True)\n",
      "      (conv3): Conv2d(128, 512, kernel_size=(1, 1), stride=(1, 1), bias=False)\n",
      "      (bn3): BatchNorm2d(512, eps=1e-05, momentum=0.1, affine=True, track_running_stats=True)\n",
      "      (relu): ReLU(inplace=True)\n",
      "      (downsample): Sequential(\n",
      "        (0): Conv2d(256, 512, kernel_size=(1, 1), stride=(2, 2), bias=False)\n",
      "        (1): BatchNorm2d(512, eps=1e-05, momentum=0.1, affine=True, track_running_stats=True)\n",
      "      )\n",
      "    )\n",
      "    (1): Bottleneck(\n",
      "      (conv1): Conv2d(512, 128, kernel_size=(1, 1), stride=(1, 1), bias=False)\n",
      "      (bn1): BatchNorm2d(128, eps=1e-05, momentum=0.1, affine=True, track_running_stats=True)\n",
      "      (conv2): Conv2d(128, 128, kernel_size=(3, 3), stride=(1, 1), padding=(1, 1), bias=False)\n",
      "      (bn2): BatchNorm2d(128, eps=1e-05, momentum=0.1, affine=True, track_running_stats=True)\n",
      "      (conv3): Conv2d(128, 512, kernel_size=(1, 1), stride=(1, 1), bias=False)\n",
      "      (bn3): BatchNorm2d(512, eps=1e-05, momentum=0.1, affine=True, track_running_stats=True)\n",
      "      (relu): ReLU(inplace=True)\n",
      "    )\n",
      "    (2): Bottleneck(\n",
      "      (conv1): Conv2d(512, 128, kernel_size=(1, 1), stride=(1, 1), bias=False)\n",
      "      (bn1): BatchNorm2d(128, eps=1e-05, momentum=0.1, affine=True, track_running_stats=True)\n",
      "      (conv2): Conv2d(128, 128, kernel_size=(3, 3), stride=(1, 1), padding=(1, 1), bias=False)\n",
      "      (bn2): BatchNorm2d(128, eps=1e-05, momentum=0.1, affine=True, track_running_stats=True)\n",
      "      (conv3): Conv2d(128, 512, kernel_size=(1, 1), stride=(1, 1), bias=False)\n",
      "      (bn3): BatchNorm2d(512, eps=1e-05, momentum=0.1, affine=True, track_running_stats=True)\n",
      "      (relu): ReLU(inplace=True)\n",
      "    )\n",
      "    (3): Bottleneck(\n",
      "      (conv1): Conv2d(512, 128, kernel_size=(1, 1), stride=(1, 1), bias=False)\n",
      "      (bn1): BatchNorm2d(128, eps=1e-05, momentum=0.1, affine=True, track_running_stats=True)\n",
      "      (conv2): Conv2d(128, 128, kernel_size=(3, 3), stride=(1, 1), padding=(1, 1), bias=False)\n",
      "      (bn2): BatchNorm2d(128, eps=1e-05, momentum=0.1, affine=True, track_running_stats=True)\n",
      "      (conv3): Conv2d(128, 512, kernel_size=(1, 1), stride=(1, 1), bias=False)\n",
      "      (bn3): BatchNorm2d(512, eps=1e-05, momentum=0.1, affine=True, track_running_stats=True)\n",
      "      (relu): ReLU(inplace=True)\n",
      "    )\n",
      "  )\n",
      "  (layer3): Sequential(\n",
      "    (0): Bottleneck(\n",
      "      (conv1): Conv2d(512, 256, kernel_size=(1, 1), stride=(1, 1), bias=False)\n",
      "      (bn1): BatchNorm2d(256, eps=1e-05, momentum=0.1, affine=True, track_running_stats=True)\n",
      "      (conv2): Conv2d(256, 256, kernel_size=(3, 3), stride=(2, 2), padding=(1, 1), bias=False)\n",
      "      (bn2): BatchNorm2d(256, eps=1e-05, momentum=0.1, affine=True, track_running_stats=True)\n",
      "      (conv3): Conv2d(256, 1024, kernel_size=(1, 1), stride=(1, 1), bias=False)\n",
      "      (bn3): BatchNorm2d(1024, eps=1e-05, momentum=0.1, affine=True, track_running_stats=True)\n",
      "      (relu): ReLU(inplace=True)\n",
      "      (downsample): Sequential(\n",
      "        (0): Conv2d(512, 1024, kernel_size=(1, 1), stride=(2, 2), bias=False)\n",
      "        (1): BatchNorm2d(1024, eps=1e-05, momentum=0.1, affine=True, track_running_stats=True)\n",
      "      )\n",
      "    )\n",
      "    (1): Bottleneck(\n",
      "      (conv1): Conv2d(1024, 256, kernel_size=(1, 1), stride=(1, 1), bias=False)\n",
      "      (bn1): BatchNorm2d(256, eps=1e-05, momentum=0.1, affine=True, track_running_stats=True)\n",
      "      (conv2): Conv2d(256, 256, kernel_size=(3, 3), stride=(1, 1), padding=(1, 1), bias=False)\n",
      "      (bn2): BatchNorm2d(256, eps=1e-05, momentum=0.1, affine=True, track_running_stats=True)\n",
      "      (conv3): Conv2d(256, 1024, kernel_size=(1, 1), stride=(1, 1), bias=False)\n",
      "      (bn3): BatchNorm2d(1024, eps=1e-05, momentum=0.1, affine=True, track_running_stats=True)\n",
      "      (relu): ReLU(inplace=True)\n",
      "    )\n",
      "    (2): Bottleneck(\n",
      "      (conv1): Conv2d(1024, 256, kernel_size=(1, 1), stride=(1, 1), bias=False)\n",
      "      (bn1): BatchNorm2d(256, eps=1e-05, momentum=0.1, affine=True, track_running_stats=True)\n",
      "      (conv2): Conv2d(256, 256, kernel_size=(3, 3), stride=(1, 1), padding=(1, 1), bias=False)\n",
      "      (bn2): BatchNorm2d(256, eps=1e-05, momentum=0.1, affine=True, track_running_stats=True)\n",
      "      (conv3): Conv2d(256, 1024, kernel_size=(1, 1), stride=(1, 1), bias=False)\n",
      "      (bn3): BatchNorm2d(1024, eps=1e-05, momentum=0.1, affine=True, track_running_stats=True)\n",
      "      (relu): ReLU(inplace=True)\n",
      "    )\n",
      "    (3): Bottleneck(\n",
      "      (conv1): Conv2d(1024, 256, kernel_size=(1, 1), stride=(1, 1), bias=False)\n",
      "      (bn1): BatchNorm2d(256, eps=1e-05, momentum=0.1, affine=True, track_running_stats=True)\n",
      "      (conv2): Conv2d(256, 256, kernel_size=(3, 3), stride=(1, 1), padding=(1, 1), bias=False)\n",
      "      (bn2): BatchNorm2d(256, eps=1e-05, momentum=0.1, affine=True, track_running_stats=True)\n",
      "      (conv3): Conv2d(256, 1024, kernel_size=(1, 1), stride=(1, 1), bias=False)\n",
      "      (bn3): BatchNorm2d(1024, eps=1e-05, momentum=0.1, affine=True, track_running_stats=True)\n",
      "      (relu): ReLU(inplace=True)\n",
      "    )\n",
      "    (4): Bottleneck(\n",
      "      (conv1): Conv2d(1024, 256, kernel_size=(1, 1), stride=(1, 1), bias=False)\n",
      "      (bn1): BatchNorm2d(256, eps=1e-05, momentum=0.1, affine=True, track_running_stats=True)\n",
      "      (conv2): Conv2d(256, 256, kernel_size=(3, 3), stride=(1, 1), padding=(1, 1), bias=False)\n",
      "      (bn2): BatchNorm2d(256, eps=1e-05, momentum=0.1, affine=True, track_running_stats=True)\n",
      "      (conv3): Conv2d(256, 1024, kernel_size=(1, 1), stride=(1, 1), bias=False)\n",
      "      (bn3): BatchNorm2d(1024, eps=1e-05, momentum=0.1, affine=True, track_running_stats=True)\n",
      "      (relu): ReLU(inplace=True)\n",
      "    )\n",
      "    (5): Bottleneck(\n",
      "      (conv1): Conv2d(1024, 256, kernel_size=(1, 1), stride=(1, 1), bias=False)\n",
      "      (bn1): BatchNorm2d(256, eps=1e-05, momentum=0.1, affine=True, track_running_stats=True)\n",
      "      (conv2): Conv2d(256, 256, kernel_size=(3, 3), stride=(1, 1), padding=(1, 1), bias=False)\n",
      "      (bn2): BatchNorm2d(256, eps=1e-05, momentum=0.1, affine=True, track_running_stats=True)\n",
      "      (conv3): Conv2d(256, 1024, kernel_size=(1, 1), stride=(1, 1), bias=False)\n",
      "      (bn3): BatchNorm2d(1024, eps=1e-05, momentum=0.1, affine=True, track_running_stats=True)\n",
      "      (relu): ReLU(inplace=True)\n",
      "    )\n",
      "    (6): Bottleneck(\n",
      "      (conv1): Conv2d(1024, 256, kernel_size=(1, 1), stride=(1, 1), bias=False)\n",
      "      (bn1): BatchNorm2d(256, eps=1e-05, momentum=0.1, affine=True, track_running_stats=True)\n",
      "      (conv2): Conv2d(256, 256, kernel_size=(3, 3), stride=(1, 1), padding=(1, 1), bias=False)\n",
      "      (bn2): BatchNorm2d(256, eps=1e-05, momentum=0.1, affine=True, track_running_stats=True)\n",
      "      (conv3): Conv2d(256, 1024, kernel_size=(1, 1), stride=(1, 1), bias=False)\n",
      "      (bn3): BatchNorm2d(1024, eps=1e-05, momentum=0.1, affine=True, track_running_stats=True)\n",
      "      (relu): ReLU(inplace=True)\n",
      "    )\n",
      "    (7): Bottleneck(\n",
      "      (conv1): Conv2d(1024, 256, kernel_size=(1, 1), stride=(1, 1), bias=False)\n",
      "      (bn1): BatchNorm2d(256, eps=1e-05, momentum=0.1, affine=True, track_running_stats=True)\n",
      "      (conv2): Conv2d(256, 256, kernel_size=(3, 3), stride=(1, 1), padding=(1, 1), bias=False)\n",
      "      (bn2): BatchNorm2d(256, eps=1e-05, momentum=0.1, affine=True, track_running_stats=True)\n",
      "      (conv3): Conv2d(256, 1024, kernel_size=(1, 1), stride=(1, 1), bias=False)\n",
      "      (bn3): BatchNorm2d(1024, eps=1e-05, momentum=0.1, affine=True, track_running_stats=True)\n",
      "      (relu): ReLU(inplace=True)\n",
      "    )\n",
      "    (8): Bottleneck(\n",
      "      (conv1): Conv2d(1024, 256, kernel_size=(1, 1), stride=(1, 1), bias=False)\n",
      "      (bn1): BatchNorm2d(256, eps=1e-05, momentum=0.1, affine=True, track_running_stats=True)\n",
      "      (conv2): Conv2d(256, 256, kernel_size=(3, 3), stride=(1, 1), padding=(1, 1), bias=False)\n",
      "      (bn2): BatchNorm2d(256, eps=1e-05, momentum=0.1, affine=True, track_running_stats=True)\n",
      "      (conv3): Conv2d(256, 1024, kernel_size=(1, 1), stride=(1, 1), bias=False)\n",
      "      (bn3): BatchNorm2d(1024, eps=1e-05, momentum=0.1, affine=True, track_running_stats=True)\n",
      "      (relu): ReLU(inplace=True)\n",
      "    )\n",
      "    (9): Bottleneck(\n",
      "      (conv1): Conv2d(1024, 256, kernel_size=(1, 1), stride=(1, 1), bias=False)\n",
      "      (bn1): BatchNorm2d(256, eps=1e-05, momentum=0.1, affine=True, track_running_stats=True)\n",
      "      (conv2): Conv2d(256, 256, kernel_size=(3, 3), stride=(1, 1), padding=(1, 1), bias=False)\n",
      "      (bn2): BatchNorm2d(256, eps=1e-05, momentum=0.1, affine=True, track_running_stats=True)\n",
      "      (conv3): Conv2d(256, 1024, kernel_size=(1, 1), stride=(1, 1), bias=False)\n",
      "      (bn3): BatchNorm2d(1024, eps=1e-05, momentum=0.1, affine=True, track_running_stats=True)\n",
      "      (relu): ReLU(inplace=True)\n",
      "    )\n",
      "    (10): Bottleneck(\n",
      "      (conv1): Conv2d(1024, 256, kernel_size=(1, 1), stride=(1, 1), bias=False)\n",
      "      (bn1): BatchNorm2d(256, eps=1e-05, momentum=0.1, affine=True, track_running_stats=True)\n",
      "      (conv2): Conv2d(256, 256, kernel_size=(3, 3), stride=(1, 1), padding=(1, 1), bias=False)\n",
      "      (bn2): BatchNorm2d(256, eps=1e-05, momentum=0.1, affine=True, track_running_stats=True)\n",
      "      (conv3): Conv2d(256, 1024, kernel_size=(1, 1), stride=(1, 1), bias=False)\n",
      "      (bn3): BatchNorm2d(1024, eps=1e-05, momentum=0.1, affine=True, track_running_stats=True)\n",
      "      (relu): ReLU(inplace=True)\n",
      "    )\n",
      "    (11): Bottleneck(\n",
      "      (conv1): Conv2d(1024, 256, kernel_size=(1, 1), stride=(1, 1), bias=False)\n",
      "      (bn1): BatchNorm2d(256, eps=1e-05, momentum=0.1, affine=True, track_running_stats=True)\n",
      "      (conv2): Conv2d(256, 256, kernel_size=(3, 3), stride=(1, 1), padding=(1, 1), bias=False)\n",
      "      (bn2): BatchNorm2d(256, eps=1e-05, momentum=0.1, affine=True, track_running_stats=True)\n",
      "      (conv3): Conv2d(256, 1024, kernel_size=(1, 1), stride=(1, 1), bias=False)\n",
      "      (bn3): BatchNorm2d(1024, eps=1e-05, momentum=0.1, affine=True, track_running_stats=True)\n",
      "      (relu): ReLU(inplace=True)\n",
      "    )\n",
      "    (12): Bottleneck(\n",
      "      (conv1): Conv2d(1024, 256, kernel_size=(1, 1), stride=(1, 1), bias=False)\n",
      "      (bn1): BatchNorm2d(256, eps=1e-05, momentum=0.1, affine=True, track_running_stats=True)\n",
      "      (conv2): Conv2d(256, 256, kernel_size=(3, 3), stride=(1, 1), padding=(1, 1), bias=False)\n",
      "      (bn2): BatchNorm2d(256, eps=1e-05, momentum=0.1, affine=True, track_running_stats=True)\n",
      "      (conv3): Conv2d(256, 1024, kernel_size=(1, 1), stride=(1, 1), bias=False)\n",
      "      (bn3): BatchNorm2d(1024, eps=1e-05, momentum=0.1, affine=True, track_running_stats=True)\n",
      "      (relu): ReLU(inplace=True)\n",
      "    )\n",
      "    (13): Bottleneck(\n",
      "      (conv1): Conv2d(1024, 256, kernel_size=(1, 1), stride=(1, 1), bias=False)\n",
      "      (bn1): BatchNorm2d(256, eps=1e-05, momentum=0.1, affine=True, track_running_stats=True)\n",
      "      (conv2): Conv2d(256, 256, kernel_size=(3, 3), stride=(1, 1), padding=(1, 1), bias=False)\n",
      "      (bn2): BatchNorm2d(256, eps=1e-05, momentum=0.1, affine=True, track_running_stats=True)\n",
      "      (conv3): Conv2d(256, 1024, kernel_size=(1, 1), stride=(1, 1), bias=False)\n",
      "      (bn3): BatchNorm2d(1024, eps=1e-05, momentum=0.1, affine=True, track_running_stats=True)\n",
      "      (relu): ReLU(inplace=True)\n",
      "    )\n",
      "    (14): Bottleneck(\n",
      "      (conv1): Conv2d(1024, 256, kernel_size=(1, 1), stride=(1, 1), bias=False)\n",
      "      (bn1): BatchNorm2d(256, eps=1e-05, momentum=0.1, affine=True, track_running_stats=True)\n",
      "      (conv2): Conv2d(256, 256, kernel_size=(3, 3), stride=(1, 1), padding=(1, 1), bias=False)\n",
      "      (bn2): BatchNorm2d(256, eps=1e-05, momentum=0.1, affine=True, track_running_stats=True)\n",
      "      (conv3): Conv2d(256, 1024, kernel_size=(1, 1), stride=(1, 1), bias=False)\n",
      "      (bn3): BatchNorm2d(1024, eps=1e-05, momentum=0.1, affine=True, track_running_stats=True)\n",
      "      (relu): ReLU(inplace=True)\n",
      "    )\n",
      "    (15): Bottleneck(\n",
      "      (conv1): Conv2d(1024, 256, kernel_size=(1, 1), stride=(1, 1), bias=False)\n",
      "      (bn1): BatchNorm2d(256, eps=1e-05, momentum=0.1, affine=True, track_running_stats=True)\n",
      "      (conv2): Conv2d(256, 256, kernel_size=(3, 3), stride=(1, 1), padding=(1, 1), bias=False)\n",
      "      (bn2): BatchNorm2d(256, eps=1e-05, momentum=0.1, affine=True, track_running_stats=True)\n",
      "      (conv3): Conv2d(256, 1024, kernel_size=(1, 1), stride=(1, 1), bias=False)\n",
      "      (bn3): BatchNorm2d(1024, eps=1e-05, momentum=0.1, affine=True, track_running_stats=True)\n",
      "      (relu): ReLU(inplace=True)\n",
      "    )\n",
      "    (16): Bottleneck(\n",
      "      (conv1): Conv2d(1024, 256, kernel_size=(1, 1), stride=(1, 1), bias=False)\n",
      "      (bn1): BatchNorm2d(256, eps=1e-05, momentum=0.1, affine=True, track_running_stats=True)\n",
      "      (conv2): Conv2d(256, 256, kernel_size=(3, 3), stride=(1, 1), padding=(1, 1), bias=False)\n",
      "      (bn2): BatchNorm2d(256, eps=1e-05, momentum=0.1, affine=True, track_running_stats=True)\n",
      "      (conv3): Conv2d(256, 1024, kernel_size=(1, 1), stride=(1, 1), bias=False)\n",
      "      (bn3): BatchNorm2d(1024, eps=1e-05, momentum=0.1, affine=True, track_running_stats=True)\n",
      "      (relu): ReLU(inplace=True)\n",
      "    )\n",
      "    (17): Bottleneck(\n",
      "      (conv1): Conv2d(1024, 256, kernel_size=(1, 1), stride=(1, 1), bias=False)\n",
      "      (bn1): BatchNorm2d(256, eps=1e-05, momentum=0.1, affine=True, track_running_stats=True)\n",
      "      (conv2): Conv2d(256, 256, kernel_size=(3, 3), stride=(1, 1), padding=(1, 1), bias=False)\n",
      "      (bn2): BatchNorm2d(256, eps=1e-05, momentum=0.1, affine=True, track_running_stats=True)\n",
      "      (conv3): Conv2d(256, 1024, kernel_size=(1, 1), stride=(1, 1), bias=False)\n",
      "      (bn3): BatchNorm2d(1024, eps=1e-05, momentum=0.1, affine=True, track_running_stats=True)\n",
      "      (relu): ReLU(inplace=True)\n",
      "    )\n",
      "    (18): Bottleneck(\n",
      "      (conv1): Conv2d(1024, 256, kernel_size=(1, 1), stride=(1, 1), bias=False)\n",
      "      (bn1): BatchNorm2d(256, eps=1e-05, momentum=0.1, affine=True, track_running_stats=True)\n",
      "      (conv2): Conv2d(256, 256, kernel_size=(3, 3), stride=(1, 1), padding=(1, 1), bias=False)\n",
      "      (bn2): BatchNorm2d(256, eps=1e-05, momentum=0.1, affine=True, track_running_stats=True)\n",
      "      (conv3): Conv2d(256, 1024, kernel_size=(1, 1), stride=(1, 1), bias=False)\n",
      "      (bn3): BatchNorm2d(1024, eps=1e-05, momentum=0.1, affine=True, track_running_stats=True)\n",
      "      (relu): ReLU(inplace=True)\n",
      "    )\n",
      "    (19): Bottleneck(\n",
      "      (conv1): Conv2d(1024, 256, kernel_size=(1, 1), stride=(1, 1), bias=False)\n",
      "      (bn1): BatchNorm2d(256, eps=1e-05, momentum=0.1, affine=True, track_running_stats=True)\n",
      "      (conv2): Conv2d(256, 256, kernel_size=(3, 3), stride=(1, 1), padding=(1, 1), bias=False)\n",
      "      (bn2): BatchNorm2d(256, eps=1e-05, momentum=0.1, affine=True, track_running_stats=True)\n",
      "      (conv3): Conv2d(256, 1024, kernel_size=(1, 1), stride=(1, 1), bias=False)\n",
      "      (bn3): BatchNorm2d(1024, eps=1e-05, momentum=0.1, affine=True, track_running_stats=True)\n",
      "      (relu): ReLU(inplace=True)\n",
      "    )\n",
      "    (20): Bottleneck(\n",
      "      (conv1): Conv2d(1024, 256, kernel_size=(1, 1), stride=(1, 1), bias=False)\n",
      "      (bn1): BatchNorm2d(256, eps=1e-05, momentum=0.1, affine=True, track_running_stats=True)\n",
      "      (conv2): Conv2d(256, 256, kernel_size=(3, 3), stride=(1, 1), padding=(1, 1), bias=False)\n",
      "      (bn2): BatchNorm2d(256, eps=1e-05, momentum=0.1, affine=True, track_running_stats=True)\n",
      "      (conv3): Conv2d(256, 1024, kernel_size=(1, 1), stride=(1, 1), bias=False)\n",
      "      (bn3): BatchNorm2d(1024, eps=1e-05, momentum=0.1, affine=True, track_running_stats=True)\n",
      "      (relu): ReLU(inplace=True)\n",
      "    )\n",
      "    (21): Bottleneck(\n",
      "      (conv1): Conv2d(1024, 256, kernel_size=(1, 1), stride=(1, 1), bias=False)\n",
      "      (bn1): BatchNorm2d(256, eps=1e-05, momentum=0.1, affine=True, track_running_stats=True)\n",
      "      (conv2): Conv2d(256, 256, kernel_size=(3, 3), stride=(1, 1), padding=(1, 1), bias=False)\n",
      "      (bn2): BatchNorm2d(256, eps=1e-05, momentum=0.1, affine=True, track_running_stats=True)\n",
      "      (conv3): Conv2d(256, 1024, kernel_size=(1, 1), stride=(1, 1), bias=False)\n",
      "      (bn3): BatchNorm2d(1024, eps=1e-05, momentum=0.1, affine=True, track_running_stats=True)\n",
      "      (relu): ReLU(inplace=True)\n",
      "    )\n",
      "    (22): Bottleneck(\n",
      "      (conv1): Conv2d(1024, 256, kernel_size=(1, 1), stride=(1, 1), bias=False)\n",
      "      (bn1): BatchNorm2d(256, eps=1e-05, momentum=0.1, affine=True, track_running_stats=True)\n",
      "      (conv2): Conv2d(256, 256, kernel_size=(3, 3), stride=(1, 1), padding=(1, 1), bias=False)\n",
      "      (bn2): BatchNorm2d(256, eps=1e-05, momentum=0.1, affine=True, track_running_stats=True)\n",
      "      (conv3): Conv2d(256, 1024, kernel_size=(1, 1), stride=(1, 1), bias=False)\n",
      "      (bn3): BatchNorm2d(1024, eps=1e-05, momentum=0.1, affine=True, track_running_stats=True)\n",
      "      (relu): ReLU(inplace=True)\n",
      "    )\n",
      "  )\n",
      "  (layer4): Sequential(\n",
      "    (0): Bottleneck(\n",
      "      (conv1): Conv2d(1024, 512, kernel_size=(1, 1), stride=(1, 1), bias=False)\n",
      "      (bn1): BatchNorm2d(512, eps=1e-05, momentum=0.1, affine=True, track_running_stats=True)\n",
      "      (conv2): Conv2d(512, 512, kernel_size=(3, 3), stride=(2, 2), padding=(1, 1), bias=False)\n",
      "      (bn2): BatchNorm2d(512, eps=1e-05, momentum=0.1, affine=True, track_running_stats=True)\n",
      "      (conv3): Conv2d(512, 2048, kernel_size=(1, 1), stride=(1, 1), bias=False)\n",
      "      (bn3): BatchNorm2d(2048, eps=1e-05, momentum=0.1, affine=True, track_running_stats=True)\n",
      "      (relu): ReLU(inplace=True)\n",
      "      (downsample): Sequential(\n",
      "        (0): Conv2d(1024, 2048, kernel_size=(1, 1), stride=(2, 2), bias=False)\n",
      "        (1): BatchNorm2d(2048, eps=1e-05, momentum=0.1, affine=True, track_running_stats=True)\n",
      "      )\n",
      "    )\n",
      "    (1): Bottleneck(\n",
      "      (conv1): Conv2d(2048, 512, kernel_size=(1, 1), stride=(1, 1), bias=False)\n",
      "      (bn1): BatchNorm2d(512, eps=1e-05, momentum=0.1, affine=True, track_running_stats=True)\n",
      "      (conv2): Conv2d(512, 512, kernel_size=(3, 3), stride=(1, 1), padding=(1, 1), bias=False)\n",
      "      (bn2): BatchNorm2d(512, eps=1e-05, momentum=0.1, affine=True, track_running_stats=True)\n",
      "      (conv3): Conv2d(512, 2048, kernel_size=(1, 1), stride=(1, 1), bias=False)\n",
      "      (bn3): BatchNorm2d(2048, eps=1e-05, momentum=0.1, affine=True, track_running_stats=True)\n",
      "      (relu): ReLU(inplace=True)\n",
      "    )\n",
      "    (2): Bottleneck(\n",
      "      (conv1): Conv2d(2048, 512, kernel_size=(1, 1), stride=(1, 1), bias=False)\n",
      "      (bn1): BatchNorm2d(512, eps=1e-05, momentum=0.1, affine=True, track_running_stats=True)\n",
      "      (conv2): Conv2d(512, 512, kernel_size=(3, 3), stride=(1, 1), padding=(1, 1), bias=False)\n",
      "      (bn2): BatchNorm2d(512, eps=1e-05, momentum=0.1, affine=True, track_running_stats=True)\n",
      "      (conv3): Conv2d(512, 2048, kernel_size=(1, 1), stride=(1, 1), bias=False)\n",
      "      (bn3): BatchNorm2d(2048, eps=1e-05, momentum=0.1, affine=True, track_running_stats=True)\n",
      "      (relu): ReLU(inplace=True)\n",
      "    )\n",
      "  )\n",
      "  (avgpool): AdaptiveAvgPool2d(output_size=(1, 1))\n",
      "  (fc): Linear(in_features=2048, out_features=100, bias=True)\n",
      ")\n",
      "Memory state before Epoch 1:\n",
      "GPU memory allocated: 364.21 MB\n",
      "GPU memory cached: 514.00 MB\n"
     ]
    },
    {
     "name": "stderr",
     "output_type": "stream",
     "text": [
      "Epoch 1: 100%|██████████| 391/391 [01:50<00:00,  3.55it/s, loss=4.31, acc=5.52]\n",
      "Test: 100%|██████████| 79/79 [00:05<00:00, 13.89it/s, loss=3.88, acc=10.7]\n"
     ]
    },
    {
     "name": "stdout",
     "output_type": "stream",
     "text": [
      "Epoch: 1/100\n",
      "Train Loss: 4.3136 | Train Acc: 5.52%\n",
      "Test Loss: 3.8296 | Test Acc: 10.66%\n",
      "----------------------------------------------------------------------\n",
      "Saved best model to cifar100_resnet101_best.pth [Accuracy: 10.66%]\n",
      "Memory state after Epoch 1:\n",
      "GPU memory allocated: 706.38 MB\n",
      "GPU memory cached: 1182.00 MB\n",
      "Memory state before Epoch 2:\n",
      "GPU memory allocated: 706.38 MB\n",
      "GPU memory cached: 1182.00 MB\n"
     ]
    },
    {
     "name": "stderr",
     "output_type": "stream",
     "text": [
      "Epoch 2: 100%|██████████| 391/391 [01:52<00:00,  3.46it/s, loss=3.7, acc=12.6] \n",
      "Test: 100%|██████████| 79/79 [00:05<00:00, 13.79it/s, loss=3.55, acc=15.8]\n"
     ]
    },
    {
     "name": "stdout",
     "output_type": "stream",
     "text": [
      "Epoch: 2/100\n",
      "Train Loss: 3.7029 | Train Acc: 12.60%\n",
      "Test Loss: 3.5058 | Test Acc: 15.85%\n",
      "----------------------------------------------------------------------\n",
      "Saved best model to cifar100_resnet101_best.pth [Accuracy: 15.85%]\n",
      "Memory state after Epoch 2:\n",
      "GPU memory allocated: 705.25 MB\n",
      "GPU memory cached: 1148.00 MB\n",
      "Memory state before Epoch 3:\n",
      "GPU memory allocated: 705.25 MB\n",
      "GPU memory cached: 1148.00 MB\n"
     ]
    },
    {
     "name": "stderr",
     "output_type": "stream",
     "text": [
      "Epoch 3: 100%|██████████| 391/391 [01:51<00:00,  3.49it/s, loss=3.39, acc=18.1]\n",
      "Test: 100%|██████████| 79/79 [00:05<00:00, 13.85it/s, loss=3.3, acc=21]   \n"
     ]
    },
    {
     "name": "stdout",
     "output_type": "stream",
     "text": [
      "Epoch: 3/100\n",
      "Train Loss: 3.3872 | Train Acc: 18.06%\n",
      "Test Loss: 3.2556 | Test Acc: 21.01%\n",
      "----------------------------------------------------------------------\n",
      "Saved best model to cifar100_resnet101_best.pth [Accuracy: 21.01%]\n",
      "Memory state after Epoch 3:\n",
      "GPU memory allocated: 705.84 MB\n",
      "GPU memory cached: 1202.00 MB\n",
      "Memory state before Epoch 4:\n",
      "GPU memory allocated: 705.84 MB\n",
      "GPU memory cached: 1202.00 MB\n"
     ]
    },
    {
     "name": "stderr",
     "output_type": "stream",
     "text": [
      "Epoch 4: 100%|██████████| 391/391 [01:48<00:00,  3.61it/s, loss=3.11, acc=22.7]\n",
      "Test: 100%|██████████| 79/79 [00:05<00:00, 14.77it/s, loss=3.07, acc=25.9]\n"
     ]
    },
    {
     "name": "stdout",
     "output_type": "stream",
     "text": [
      "Epoch: 4/100\n",
      "Train Loss: 3.1143 | Train Acc: 22.65%\n",
      "Test Loss: 3.0337 | Test Acc: 25.93%\n",
      "----------------------------------------------------------------------\n",
      "Saved best model to cifar100_resnet101_best.pth [Accuracy: 25.93%]\n",
      "Memory state after Epoch 4:\n",
      "GPU memory allocated: 705.53 MB\n",
      "GPU memory cached: 1462.00 MB\n",
      "Memory state before Epoch 5:\n",
      "GPU memory allocated: 705.53 MB\n",
      "GPU memory cached: 1462.00 MB\n"
     ]
    },
    {
     "name": "stderr",
     "output_type": "stream",
     "text": [
      "Epoch 5: 100%|██████████| 391/391 [01:49<00:00,  3.56it/s, loss=2.86, acc=27.9]\n",
      "Test: 100%|██████████| 79/79 [00:05<00:00, 13.83it/s, loss=2.86, acc=29.9]\n"
     ]
    },
    {
     "name": "stdout",
     "output_type": "stream",
     "text": [
      "Epoch: 5/100\n",
      "Train Loss: 2.8572 | Train Acc: 27.87%\n",
      "Test Loss: 2.8252 | Test Acc: 29.91%\n",
      "----------------------------------------------------------------------\n",
      "Saved best model to cifar100_resnet101_best.pth [Accuracy: 29.91%]\n",
      "Memory state after Epoch 5:\n",
      "GPU memory allocated: 705.84 MB\n",
      "GPU memory cached: 1202.00 MB\n",
      "Memory state before Epoch 6:\n",
      "GPU memory allocated: 705.84 MB\n",
      "GPU memory cached: 1202.00 MB\n"
     ]
    },
    {
     "name": "stderr",
     "output_type": "stream",
     "text": [
      "Epoch 6: 100%|██████████| 391/391 [01:52<00:00,  3.46it/s, loss=2.61, acc=32.7]\n",
      "Test: 100%|██████████| 79/79 [00:05<00:00, 13.84it/s, loss=2.87, acc=31]  \n"
     ]
    },
    {
     "name": "stdout",
     "output_type": "stream",
     "text": [
      "Epoch: 6/100\n",
      "Train Loss: 2.6065 | Train Acc: 32.65%\n",
      "Test Loss: 2.8320 | Test Acc: 31.01%\n",
      "----------------------------------------------------------------------\n",
      "Saved best model to cifar100_resnet101_best.pth [Accuracy: 31.01%]\n",
      "Memory state after Epoch 6:\n",
      "GPU memory allocated: 706.38 MB\n",
      "GPU memory cached: 1182.00 MB\n",
      "Memory state before Epoch 7:\n",
      "GPU memory allocated: 706.38 MB\n",
      "GPU memory cached: 1182.00 MB\n"
     ]
    },
    {
     "name": "stderr",
     "output_type": "stream",
     "text": [
      "Epoch 7: 100%|██████████| 391/391 [01:50<00:00,  3.53it/s, loss=2.37, acc=37.4]\n",
      "Test: 100%|██████████| 79/79 [00:05<00:00, 14.81it/s, loss=2.63, acc=35.8]\n"
     ]
    },
    {
     "name": "stdout",
     "output_type": "stream",
     "text": [
      "Epoch: 7/100\n",
      "Train Loss: 2.3719 | Train Acc: 37.43%\n",
      "Test Loss: 2.5928 | Test Acc: 35.76%\n",
      "----------------------------------------------------------------------\n",
      "Saved best model to cifar100_resnet101_best.pth [Accuracy: 35.76%]\n",
      "Memory state after Epoch 7:\n",
      "GPU memory allocated: 705.62 MB\n",
      "GPU memory cached: 1460.00 MB\n",
      "Memory state before Epoch 8:\n",
      "GPU memory allocated: 705.62 MB\n",
      "GPU memory cached: 1460.00 MB\n"
     ]
    },
    {
     "name": "stderr",
     "output_type": "stream",
     "text": [
      "Epoch 8: 100%|██████████| 391/391 [01:52<00:00,  3.48it/s, loss=2.16, acc=42.1]\n",
      "Test: 100%|██████████| 79/79 [00:05<00:00, 13.82it/s, loss=2.58, acc=37.7]\n"
     ]
    },
    {
     "name": "stdout",
     "output_type": "stream",
     "text": [
      "Epoch: 8/100\n",
      "Train Loss: 2.1584 | Train Acc: 42.08%\n",
      "Test Loss: 2.5472 | Test Acc: 37.66%\n",
      "----------------------------------------------------------------------\n",
      "Saved best model to cifar100_resnet101_best.pth [Accuracy: 37.66%]\n",
      "Memory state after Epoch 8:\n",
      "GPU memory allocated: 705.25 MB\n",
      "GPU memory cached: 1184.00 MB\n",
      "Memory state before Epoch 9:\n",
      "GPU memory allocated: 705.25 MB\n",
      "GPU memory cached: 1184.00 MB\n"
     ]
    },
    {
     "name": "stderr",
     "output_type": "stream",
     "text": [
      "Epoch 9: 100%|██████████| 391/391 [01:51<00:00,  3.50it/s, loss=1.98, acc=46]  \n",
      "Test: 100%|██████████| 79/79 [00:05<00:00, 13.91it/s, loss=2.41, acc=42.1]\n"
     ]
    },
    {
     "name": "stdout",
     "output_type": "stream",
     "text": [
      "Epoch: 9/100\n",
      "Train Loss: 1.9791 | Train Acc: 45.96%\n",
      "Test Loss: 2.3823 | Test Acc: 42.15%\n",
      "----------------------------------------------------------------------\n",
      "Saved best model to cifar100_resnet101_best.pth [Accuracy: 42.15%]\n",
      "Memory state after Epoch 9:\n",
      "GPU memory allocated: 705.25 MB\n",
      "GPU memory cached: 1184.00 MB\n",
      "Memory state before Epoch 10:\n",
      "GPU memory allocated: 705.25 MB\n",
      "GPU memory cached: 1184.00 MB\n"
     ]
    },
    {
     "name": "stderr",
     "output_type": "stream",
     "text": [
      "Epoch 10: 100%|██████████| 391/391 [01:50<00:00,  3.54it/s, loss=1.81, acc=50.1]\n",
      "Test: 100%|██████████| 79/79 [00:05<00:00, 14.79it/s, loss=2.05, acc=47.1]\n"
     ]
    },
    {
     "name": "stdout",
     "output_type": "stream",
     "text": [
      "Epoch: 10/100\n",
      "Train Loss: 1.8092 | Train Acc: 50.10%\n",
      "Test Loss: 2.0240 | Test Acc: 47.13%\n",
      "----------------------------------------------------------------------\n",
      "Saved best model to cifar100_resnet101_best.pth [Accuracy: 47.13%]\n",
      "Saved checkpoint to cifar100_resnet101_checkpoint_epoch10.pth\n",
      "Memory state after Epoch 10:\n",
      "GPU memory allocated: 705.62 MB\n",
      "GPU memory cached: 1460.00 MB\n",
      "Memory state before Epoch 11:\n",
      "GPU memory allocated: 705.62 MB\n",
      "GPU memory cached: 1460.00 MB\n"
     ]
    },
    {
     "name": "stderr",
     "output_type": "stream",
     "text": [
      "Epoch 11: 100%|██████████| 391/391 [01:52<00:00,  3.49it/s, loss=1.68, acc=53.3]\n",
      "Test: 100%|██████████| 79/79 [00:05<00:00, 13.86it/s, loss=1.95, acc=48.9]\n"
     ]
    },
    {
     "name": "stdout",
     "output_type": "stream",
     "text": [
      "Epoch: 11/100\n",
      "Train Loss: 1.6805 | Train Acc: 53.33%\n",
      "Test Loss: 1.9223 | Test Acc: 48.94%\n",
      "----------------------------------------------------------------------\n",
      "Saved best model to cifar100_resnet101_best.pth [Accuracy: 48.94%]\n",
      "Memory state after Epoch 11:\n",
      "GPU memory allocated: 705.25 MB\n",
      "GPU memory cached: 1184.00 MB\n",
      "Memory state before Epoch 12:\n",
      "GPU memory allocated: 705.25 MB\n",
      "GPU memory cached: 1184.00 MB\n"
     ]
    },
    {
     "name": "stderr",
     "output_type": "stream",
     "text": [
      "Epoch 12: 100%|██████████| 391/391 [01:49<00:00,  3.56it/s, loss=1.54, acc=56.3]\n",
      "Test: 100%|██████████| 79/79 [00:05<00:00, 14.79it/s, loss=1.9, acc=50.6] \n"
     ]
    },
    {
     "name": "stdout",
     "output_type": "stream",
     "text": [
      "Epoch: 12/100\n",
      "Train Loss: 1.5432 | Train Acc: 56.33%\n",
      "Test Loss: 1.8750 | Test Acc: 50.63%\n",
      "----------------------------------------------------------------------\n",
      "Saved best model to cifar100_resnet101_best.pth [Accuracy: 50.63%]\n",
      "Memory state after Epoch 12:\n",
      "GPU memory allocated: 705.62 MB\n",
      "GPU memory cached: 1460.00 MB\n",
      "Memory state before Epoch 13:\n",
      "GPU memory allocated: 705.62 MB\n",
      "GPU memory cached: 1460.00 MB\n"
     ]
    },
    {
     "name": "stderr",
     "output_type": "stream",
     "text": [
      "Epoch 13: 100%|██████████| 391/391 [01:50<00:00,  3.53it/s, loss=1.41, acc=59.5]\n",
      "Test: 100%|██████████| 79/79 [00:05<00:00, 14.94it/s, loss=1.73, acc=54.6]\n"
     ]
    },
    {
     "name": "stdout",
     "output_type": "stream",
     "text": [
      "Epoch: 13/100\n",
      "Train Loss: 1.4132 | Train Acc: 59.47%\n",
      "Test Loss: 1.7032 | Test Acc: 54.56%\n",
      "----------------------------------------------------------------------\n",
      "Saved best model to cifar100_resnet101_best.pth [Accuracy: 54.56%]\n",
      "Memory state after Epoch 13:\n",
      "GPU memory allocated: 705.09 MB\n",
      "GPU memory cached: 1444.00 MB\n",
      "Memory state before Epoch 14:\n",
      "GPU memory allocated: 705.09 MB\n",
      "GPU memory cached: 1444.00 MB\n"
     ]
    },
    {
     "name": "stderr",
     "output_type": "stream",
     "text": [
      "Epoch 14: 100%|██████████| 391/391 [01:51<00:00,  3.50it/s, loss=1.32, acc=62]  \n",
      "Test: 100%|██████████| 79/79 [00:05<00:00, 13.98it/s, loss=1.86, acc=52.4]\n"
     ]
    },
    {
     "name": "stdout",
     "output_type": "stream",
     "text": [
      "Epoch: 14/100\n",
      "Train Loss: 1.3189 | Train Acc: 61.99%\n",
      "Test Loss: 1.8377 | Test Acc: 52.41%\n",
      "----------------------------------------------------------------------\n",
      "Memory state after Epoch 14:\n",
      "GPU memory allocated: 705.94 MB\n",
      "GPU memory cached: 1164.00 MB\n",
      "Memory state before Epoch 15:\n",
      "GPU memory allocated: 705.94 MB\n",
      "GPU memory cached: 1164.00 MB\n"
     ]
    },
    {
     "name": "stderr",
     "output_type": "stream",
     "text": [
      "Epoch 15: 100%|██████████| 391/391 [01:50<00:00,  3.53it/s, loss=1.23, acc=64.1]\n",
      "Test: 100%|██████████| 79/79 [00:05<00:00, 14.90it/s, loss=1.8, acc=54.6] \n"
     ]
    },
    {
     "name": "stdout",
     "output_type": "stream",
     "text": [
      "Epoch: 15/100\n",
      "Train Loss: 1.2308 | Train Acc: 64.05%\n",
      "Test Loss: 1.7789 | Test Acc: 54.65%\n",
      "----------------------------------------------------------------------\n",
      "Saved best model to cifar100_resnet101_best.pth [Accuracy: 54.65%]\n",
      "Memory state after Epoch 15:\n",
      "GPU memory allocated: 705.09 MB\n",
      "GPU memory cached: 1480.00 MB\n",
      "Memory state before Epoch 16:\n",
      "GPU memory allocated: 705.09 MB\n",
      "GPU memory cached: 1480.00 MB\n"
     ]
    },
    {
     "name": "stderr",
     "output_type": "stream",
     "text": [
      "Epoch 16: 100%|██████████| 391/391 [01:49<00:00,  3.56it/s, loss=1.14, acc=66.7]\n",
      "Test: 100%|██████████| 79/79 [00:05<00:00, 14.98it/s, loss=1.69, acc=56.6]\n"
     ]
    },
    {
     "name": "stdout",
     "output_type": "stream",
     "text": [
      "Epoch: 16/100\n",
      "Train Loss: 1.1416 | Train Acc: 66.73%\n",
      "Test Loss: 1.6708 | Test Acc: 56.64%\n",
      "----------------------------------------------------------------------\n",
      "Saved best model to cifar100_resnet101_best.pth [Accuracy: 56.64%]\n",
      "Memory state after Epoch 16:\n",
      "GPU memory allocated: 705.62 MB\n",
      "GPU memory cached: 1424.00 MB\n",
      "Memory state before Epoch 17:\n",
      "GPU memory allocated: 705.62 MB\n",
      "GPU memory cached: 1424.00 MB\n"
     ]
    },
    {
     "name": "stderr",
     "output_type": "stream",
     "text": [
      "Epoch 17: 100%|██████████| 391/391 [01:50<00:00,  3.54it/s, loss=1.06, acc=68.7]\n",
      "Test: 100%|██████████| 79/79 [00:05<00:00, 14.79it/s, loss=1.63, acc=57.7]\n"
     ]
    },
    {
     "name": "stdout",
     "output_type": "stream",
     "text": [
      "Epoch: 17/100\n",
      "Train Loss: 1.0569 | Train Acc: 68.71%\n",
      "Test Loss: 1.6101 | Test Acc: 57.67%\n",
      "----------------------------------------------------------------------\n",
      "Saved best model to cifar100_resnet101_best.pth [Accuracy: 57.67%]\n",
      "Memory state after Epoch 17:\n",
      "GPU memory allocated: 705.53 MB\n",
      "GPU memory cached: 1462.00 MB\n",
      "Memory state before Epoch 18:\n",
      "GPU memory allocated: 705.53 MB\n",
      "GPU memory cached: 1462.00 MB\n"
     ]
    },
    {
     "name": "stderr",
     "output_type": "stream",
     "text": [
      "Epoch 18: 100%|██████████| 391/391 [01:51<00:00,  3.51it/s, loss=0.984, acc=70.5]\n",
      "Test: 100%|██████████| 79/79 [00:05<00:00, 13.89it/s, loss=1.51, acc=60.8]\n"
     ]
    },
    {
     "name": "stdout",
     "output_type": "stream",
     "text": [
      "Epoch: 18/100\n",
      "Train Loss: 0.9844 | Train Acc: 70.52%\n",
      "Test Loss: 1.4934 | Test Acc: 60.79%\n",
      "----------------------------------------------------------------------\n",
      "Saved best model to cifar100_resnet101_best.pth [Accuracy: 60.79%]\n",
      "Memory state after Epoch 18:\n",
      "GPU memory allocated: 705.25 MB\n",
      "GPU memory cached: 1184.00 MB\n",
      "Memory state before Epoch 19:\n",
      "GPU memory allocated: 705.25 MB\n",
      "GPU memory cached: 1184.00 MB\n"
     ]
    },
    {
     "name": "stderr",
     "output_type": "stream",
     "text": [
      "Epoch 19: 100%|██████████| 391/391 [01:49<00:00,  3.58it/s, loss=0.915, acc=72.6]\n",
      "Test: 100%|██████████| 79/79 [00:05<00:00, 14.81it/s, loss=1.61, acc=58.8]\n"
     ]
    },
    {
     "name": "stdout",
     "output_type": "stream",
     "text": [
      "Epoch: 19/100\n",
      "Train Loss: 0.9147 | Train Acc: 72.58%\n",
      "Test Loss: 1.5934 | Test Acc: 58.79%\n",
      "----------------------------------------------------------------------\n",
      "Memory state after Epoch 19:\n",
      "GPU memory allocated: 705.53 MB\n",
      "GPU memory cached: 1462.00 MB\n",
      "Memory state before Epoch 20:\n",
      "GPU memory allocated: 705.53 MB\n",
      "GPU memory cached: 1462.00 MB\n"
     ]
    },
    {
     "name": "stderr",
     "output_type": "stream",
     "text": [
      "Epoch 20: 100%|██████████| 391/391 [01:50<00:00,  3.52it/s, loss=0.855, acc=74.3]\n",
      "Test: 100%|██████████| 79/79 [00:05<00:00, 13.80it/s, loss=1.61, acc=59.4]\n"
     ]
    },
    {
     "name": "stdout",
     "output_type": "stream",
     "text": [
      "Epoch: 20/100\n",
      "Train Loss: 0.8550 | Train Acc: 74.25%\n",
      "Test Loss: 1.5863 | Test Acc: 59.39%\n",
      "----------------------------------------------------------------------\n",
      "Saved checkpoint to cifar100_resnet101_checkpoint_epoch20.pth\n",
      "Memory state after Epoch 20:\n",
      "GPU memory allocated: 705.25 MB\n",
      "GPU memory cached: 1184.00 MB\n",
      "Memory state before Epoch 21:\n",
      "GPU memory allocated: 705.25 MB\n",
      "GPU memory cached: 1184.00 MB\n"
     ]
    },
    {
     "name": "stderr",
     "output_type": "stream",
     "text": [
      "Epoch 21: 100%|██████████| 391/391 [01:49<00:00,  3.56it/s, loss=0.793, acc=76]  \n",
      "Test: 100%|██████████| 79/79 [00:05<00:00, 14.96it/s, loss=1.6, acc=61.2] \n"
     ]
    },
    {
     "name": "stdout",
     "output_type": "stream",
     "text": [
      "Epoch: 21/100\n",
      "Train Loss: 0.7934 | Train Acc: 76.01%\n",
      "Test Loss: 1.5754 | Test Acc: 61.23%\n",
      "----------------------------------------------------------------------\n",
      "Saved best model to cifar100_resnet101_best.pth [Accuracy: 61.23%]\n",
      "Memory state after Epoch 21:\n",
      "GPU memory allocated: 705.53 MB\n",
      "GPU memory cached: 1462.00 MB\n",
      "Memory state before Epoch 22:\n",
      "GPU memory allocated: 705.53 MB\n",
      "GPU memory cached: 1462.00 MB\n"
     ]
    },
    {
     "name": "stderr",
     "output_type": "stream",
     "text": [
      "Epoch 22: 100%|██████████| 391/391 [01:50<00:00,  3.53it/s, loss=0.739, acc=77.6]\n",
      "Test: 100%|██████████| 79/79 [00:05<00:00, 13.99it/s, loss=1.55, acc=61.7]\n"
     ]
    },
    {
     "name": "stdout",
     "output_type": "stream",
     "text": [
      "Epoch: 22/100\n",
      "Train Loss: 0.7388 | Train Acc: 77.57%\n",
      "Test Loss: 1.5328 | Test Acc: 61.73%\n",
      "----------------------------------------------------------------------\n",
      "Saved best model to cifar100_resnet101_best.pth [Accuracy: 61.73%]\n",
      "Memory state after Epoch 22:\n",
      "GPU memory allocated: 705.25 MB\n",
      "GPU memory cached: 1184.00 MB\n",
      "Memory state before Epoch 23:\n",
      "GPU memory allocated: 705.25 MB\n",
      "GPU memory cached: 1184.00 MB\n"
     ]
    },
    {
     "name": "stderr",
     "output_type": "stream",
     "text": [
      "Epoch 23: 100%|██████████| 391/391 [01:50<00:00,  3.55it/s, loss=0.678, acc=79.2]\n",
      "Test: 100%|██████████| 79/79 [00:05<00:00, 14.78it/s, loss=1.6, acc=61]   \n"
     ]
    },
    {
     "name": "stdout",
     "output_type": "stream",
     "text": [
      "Epoch: 23/100\n",
      "Train Loss: 0.6777 | Train Acc: 79.21%\n",
      "Test Loss: 1.5800 | Test Acc: 61.00%\n",
      "----------------------------------------------------------------------\n",
      "Memory state after Epoch 23:\n",
      "GPU memory allocated: 705.53 MB\n",
      "GPU memory cached: 1462.00 MB\n",
      "Memory state before Epoch 24:\n",
      "GPU memory allocated: 705.53 MB\n",
      "GPU memory cached: 1462.00 MB\n"
     ]
    },
    {
     "name": "stderr",
     "output_type": "stream",
     "text": [
      "Epoch 24: 100%|██████████| 391/391 [01:51<00:00,  3.51it/s, loss=0.629, acc=80.6]\n",
      "Test: 100%|██████████| 79/79 [00:05<00:00, 13.76it/s, loss=1.58, acc=61.5]\n"
     ]
    },
    {
     "name": "stdout",
     "output_type": "stream",
     "text": [
      "Epoch: 24/100\n",
      "Train Loss: 0.6290 | Train Acc: 80.61%\n",
      "Test Loss: 1.5569 | Test Acc: 61.55%\n",
      "----------------------------------------------------------------------\n",
      "Memory state after Epoch 24:\n",
      "GPU memory allocated: 705.25 MB\n",
      "GPU memory cached: 1184.00 MB\n",
      "Memory state before Epoch 25:\n",
      "GPU memory allocated: 705.25 MB\n",
      "GPU memory cached: 1184.00 MB\n"
     ]
    },
    {
     "name": "stderr",
     "output_type": "stream",
     "text": [
      "Epoch 25: 100%|██████████| 391/391 [01:50<00:00,  3.55it/s, loss=0.577, acc=82.2]\n",
      "Test: 100%|██████████| 79/79 [00:05<00:00, 14.87it/s, loss=1.8, acc=59.8] \n"
     ]
    },
    {
     "name": "stdout",
     "output_type": "stream",
     "text": [
      "Epoch: 25/100\n",
      "Train Loss: 0.5767 | Train Acc: 82.25%\n",
      "Test Loss: 1.7761 | Test Acc: 59.81%\n",
      "----------------------------------------------------------------------\n",
      "Memory state after Epoch 25:\n",
      "GPU memory allocated: 705.53 MB\n",
      "GPU memory cached: 1462.00 MB\n",
      "Memory state before Epoch 26:\n",
      "GPU memory allocated: 705.53 MB\n",
      "GPU memory cached: 1462.00 MB\n"
     ]
    },
    {
     "name": "stderr",
     "output_type": "stream",
     "text": [
      "Epoch 26: 100%|██████████| 391/391 [01:51<00:00,  3.51it/s, loss=0.531, acc=83.5]\n",
      "Test: 100%|██████████| 79/79 [00:05<00:00, 13.94it/s, loss=1.49, acc=63.9]\n"
     ]
    },
    {
     "name": "stdout",
     "output_type": "stream",
     "text": [
      "Epoch: 26/100\n",
      "Train Loss: 0.5314 | Train Acc: 83.50%\n",
      "Test Loss: 1.4709 | Test Acc: 63.85%\n",
      "----------------------------------------------------------------------\n",
      "Saved best model to cifar100_resnet101_best.pth [Accuracy: 63.85%]\n",
      "Memory state after Epoch 26:\n",
      "GPU memory allocated: 705.25 MB\n",
      "GPU memory cached: 1184.00 MB\n",
      "Memory state before Epoch 27:\n",
      "GPU memory allocated: 705.25 MB\n",
      "GPU memory cached: 1184.00 MB\n"
     ]
    },
    {
     "name": "stderr",
     "output_type": "stream",
     "text": [
      "Epoch 27: 100%|██████████| 391/391 [01:50<00:00,  3.54it/s, loss=0.491, acc=84.6]\n",
      "Test: 100%|██████████| 79/79 [00:05<00:00, 14.73it/s, loss=1.78, acc=60.5]\n"
     ]
    },
    {
     "name": "stdout",
     "output_type": "stream",
     "text": [
      "Epoch: 27/100\n",
      "Train Loss: 0.4915 | Train Acc: 84.63%\n",
      "Test Loss: 1.7568 | Test Acc: 60.45%\n",
      "----------------------------------------------------------------------\n",
      "Memory state after Epoch 27:\n",
      "GPU memory allocated: 705.53 MB\n",
      "GPU memory cached: 1462.00 MB\n",
      "Memory state before Epoch 28:\n",
      "GPU memory allocated: 705.53 MB\n",
      "GPU memory cached: 1462.00 MB\n"
     ]
    },
    {
     "name": "stderr",
     "output_type": "stream",
     "text": [
      "Epoch 28: 100%|██████████| 391/391 [01:50<00:00,  3.53it/s, loss=0.454, acc=85.9]\n",
      "Test: 100%|██████████| 79/79 [00:05<00:00, 13.91it/s, loss=1.56, acc=63.1]\n"
     ]
    },
    {
     "name": "stdout",
     "output_type": "stream",
     "text": [
      "Epoch: 28/100\n",
      "Train Loss: 0.4538 | Train Acc: 85.87%\n",
      "Test Loss: 1.5403 | Test Acc: 63.12%\n",
      "----------------------------------------------------------------------\n",
      "Memory state after Epoch 28:\n",
      "GPU memory allocated: 705.25 MB\n",
      "GPU memory cached: 1184.00 MB\n",
      "Memory state before Epoch 29:\n",
      "GPU memory allocated: 705.25 MB\n",
      "GPU memory cached: 1184.00 MB\n"
     ]
    },
    {
     "name": "stderr",
     "output_type": "stream",
     "text": [
      "Epoch 29: 100%|██████████| 391/391 [01:50<00:00,  3.54it/s, loss=0.408, acc=87.2]\n",
      "Test: 100%|██████████| 79/79 [00:05<00:00, 14.85it/s, loss=1.5, acc=65]   \n"
     ]
    },
    {
     "name": "stdout",
     "output_type": "stream",
     "text": [
      "Epoch: 29/100\n",
      "Train Loss: 0.4080 | Train Acc: 87.24%\n",
      "Test Loss: 1.4795 | Test Acc: 64.95%\n",
      "----------------------------------------------------------------------\n",
      "Saved best model to cifar100_resnet101_best.pth [Accuracy: 64.95%]\n",
      "Memory state after Epoch 29:\n",
      "GPU memory allocated: 705.53 MB\n",
      "GPU memory cached: 1462.00 MB\n",
      "Memory state before Epoch 30:\n",
      "GPU memory allocated: 705.53 MB\n",
      "GPU memory cached: 1462.00 MB\n"
     ]
    },
    {
     "name": "stderr",
     "output_type": "stream",
     "text": [
      "Epoch 30: 100%|██████████| 391/391 [01:51<00:00,  3.50it/s, loss=0.371, acc=88.6]\n",
      "Test: 100%|██████████| 79/79 [00:05<00:00, 13.90it/s, loss=1.61, acc=63.6]\n"
     ]
    },
    {
     "name": "stdout",
     "output_type": "stream",
     "text": [
      "Epoch: 30/100\n",
      "Train Loss: 0.3708 | Train Acc: 88.59%\n",
      "Test Loss: 1.5912 | Test Acc: 63.61%\n",
      "----------------------------------------------------------------------\n",
      "Saved checkpoint to cifar100_resnet101_checkpoint_epoch30.pth\n",
      "Memory state after Epoch 30:\n",
      "GPU memory allocated: 705.25 MB\n",
      "GPU memory cached: 1184.00 MB\n",
      "Memory state before Epoch 31:\n",
      "GPU memory allocated: 705.25 MB\n",
      "GPU memory cached: 1184.00 MB\n"
     ]
    },
    {
     "name": "stderr",
     "output_type": "stream",
     "text": [
      "Epoch 31: 100%|██████████| 391/391 [01:50<00:00,  3.54it/s, loss=0.338, acc=89.6]\n",
      "Test: 100%|██████████| 79/79 [00:05<00:00, 14.69it/s, loss=1.56, acc=64.2]\n"
     ]
    },
    {
     "name": "stdout",
     "output_type": "stream",
     "text": [
      "Epoch: 31/100\n",
      "Train Loss: 0.3383 | Train Acc: 89.58%\n",
      "Test Loss: 1.5365 | Test Acc: 64.25%\n",
      "----------------------------------------------------------------------\n",
      "Memory state after Epoch 31:\n",
      "GPU memory allocated: 705.53 MB\n",
      "GPU memory cached: 1462.00 MB\n",
      "Memory state before Epoch 32:\n",
      "GPU memory allocated: 705.53 MB\n",
      "GPU memory cached: 1462.00 MB\n"
     ]
    },
    {
     "name": "stderr",
     "output_type": "stream",
     "text": [
      "Epoch 32: 100%|██████████| 391/391 [01:51<00:00,  3.51it/s, loss=0.308, acc=90.5]\n",
      "Test: 100%|██████████| 79/79 [00:05<00:00, 13.93it/s, loss=1.61, acc=64.3]\n"
     ]
    },
    {
     "name": "stdout",
     "output_type": "stream",
     "text": [
      "Epoch: 32/100\n",
      "Train Loss: 0.3085 | Train Acc: 90.49%\n",
      "Test Loss: 1.5878 | Test Acc: 64.29%\n",
      "----------------------------------------------------------------------\n",
      "Memory state after Epoch 32:\n",
      "GPU memory allocated: 705.25 MB\n",
      "GPU memory cached: 1184.00 MB\n",
      "Memory state before Epoch 33:\n",
      "GPU memory allocated: 705.25 MB\n",
      "GPU memory cached: 1184.00 MB\n"
     ]
    },
    {
     "name": "stderr",
     "output_type": "stream",
     "text": [
      "Epoch 33: 100%|██████████| 391/391 [01:50<00:00,  3.55it/s, loss=0.274, acc=91.6]\n",
      "Test: 100%|██████████| 79/79 [00:05<00:00, 14.78it/s, loss=1.59, acc=64.9]\n"
     ]
    },
    {
     "name": "stdout",
     "output_type": "stream",
     "text": [
      "Epoch: 33/100\n",
      "Train Loss: 0.2741 | Train Acc: 91.57%\n",
      "Test Loss: 1.5682 | Test Acc: 64.93%\n",
      "----------------------------------------------------------------------\n",
      "Memory state after Epoch 33:\n",
      "GPU memory allocated: 705.53 MB\n",
      "GPU memory cached: 1462.00 MB\n",
      "Memory state before Epoch 34:\n",
      "GPU memory allocated: 705.53 MB\n",
      "GPU memory cached: 1462.00 MB\n"
     ]
    },
    {
     "name": "stderr",
     "output_type": "stream",
     "text": [
      "Epoch 34: 100%|██████████| 391/391 [01:51<00:00,  3.52it/s, loss=0.243, acc=92.7]\n",
      "Test: 100%|██████████| 79/79 [00:05<00:00, 13.91it/s, loss=1.52, acc=65.9]\n"
     ]
    },
    {
     "name": "stdout",
     "output_type": "stream",
     "text": [
      "Epoch: 34/100\n",
      "Train Loss: 0.2430 | Train Acc: 92.65%\n",
      "Test Loss: 1.4983 | Test Acc: 65.91%\n",
      "----------------------------------------------------------------------\n",
      "Saved best model to cifar100_resnet101_best.pth [Accuracy: 65.91%]\n",
      "Memory state after Epoch 34:\n",
      "GPU memory allocated: 705.25 MB\n",
      "GPU memory cached: 1184.00 MB\n",
      "Memory state before Epoch 35:\n",
      "GPU memory allocated: 705.25 MB\n",
      "GPU memory cached: 1184.00 MB\n"
     ]
    },
    {
     "name": "stderr",
     "output_type": "stream",
     "text": [
      "Epoch 35: 100%|██████████| 391/391 [01:49<00:00,  3.56it/s, loss=0.227, acc=93.3]\n",
      "Test: 100%|██████████| 79/79 [00:05<00:00, 14.87it/s, loss=1.65, acc=63.6]\n"
     ]
    },
    {
     "name": "stdout",
     "output_type": "stream",
     "text": [
      "Epoch: 35/100\n",
      "Train Loss: 0.2265 | Train Acc: 93.30%\n",
      "Test Loss: 1.6318 | Test Acc: 63.64%\n",
      "----------------------------------------------------------------------\n",
      "Memory state after Epoch 35:\n",
      "GPU memory allocated: 705.53 MB\n",
      "GPU memory cached: 1462.00 MB\n",
      "Memory state before Epoch 36:\n",
      "GPU memory allocated: 705.53 MB\n",
      "GPU memory cached: 1462.00 MB\n"
     ]
    },
    {
     "name": "stderr",
     "output_type": "stream",
     "text": [
      "Epoch 36: 100%|██████████| 391/391 [01:51<00:00,  3.50it/s, loss=0.193, acc=94.5]\n",
      "Test: 100%|██████████| 79/79 [00:05<00:00, 13.84it/s, loss=1.47, acc=66.7]\n"
     ]
    },
    {
     "name": "stdout",
     "output_type": "stream",
     "text": [
      "Epoch: 36/100\n",
      "Train Loss: 0.1928 | Train Acc: 94.50%\n",
      "Test Loss: 1.4526 | Test Acc: 66.67%\n",
      "----------------------------------------------------------------------\n",
      "Saved best model to cifar100_resnet101_best.pth [Accuracy: 66.67%]\n",
      "Memory state after Epoch 36:\n",
      "GPU memory allocated: 705.25 MB\n",
      "GPU memory cached: 1184.00 MB\n",
      "Memory state before Epoch 37:\n",
      "GPU memory allocated: 705.25 MB\n",
      "GPU memory cached: 1184.00 MB\n"
     ]
    },
    {
     "name": "stderr",
     "output_type": "stream",
     "text": [
      "Epoch 37: 100%|██████████| 391/391 [01:50<00:00,  3.54it/s, loss=0.163, acc=95.5]\n",
      "Test: 100%|██████████| 79/79 [00:05<00:00, 14.80it/s, loss=1.57, acc=66.2]\n"
     ]
    },
    {
     "name": "stdout",
     "output_type": "stream",
     "text": [
      "Epoch: 37/100\n",
      "Train Loss: 0.1635 | Train Acc: 95.50%\n",
      "Test Loss: 1.5472 | Test Acc: 66.25%\n",
      "----------------------------------------------------------------------\n",
      "Memory state after Epoch 37:\n",
      "GPU memory allocated: 705.53 MB\n",
      "GPU memory cached: 1462.00 MB\n",
      "Memory state before Epoch 38:\n",
      "GPU memory allocated: 705.53 MB\n",
      "GPU memory cached: 1462.00 MB\n"
     ]
    },
    {
     "name": "stderr",
     "output_type": "stream",
     "text": [
      "Epoch 38: 100%|██████████| 391/391 [01:51<00:00,  3.51it/s, loss=0.149, acc=96]  \n",
      "Test: 100%|██████████| 79/79 [00:05<00:00, 13.86it/s, loss=1.51, acc=66.4]\n"
     ]
    },
    {
     "name": "stdout",
     "output_type": "stream",
     "text": [
      "Epoch: 38/100\n",
      "Train Loss: 0.1491 | Train Acc: 95.95%\n",
      "Test Loss: 1.4951 | Test Acc: 66.39%\n",
      "----------------------------------------------------------------------\n",
      "Memory state after Epoch 38:\n",
      "GPU memory allocated: 705.25 MB\n",
      "GPU memory cached: 1184.00 MB\n",
      "Memory state before Epoch 39:\n",
      "GPU memory allocated: 705.25 MB\n",
      "GPU memory cached: 1184.00 MB\n"
     ]
    },
    {
     "name": "stderr",
     "output_type": "stream",
     "text": [
      "Epoch 39: 100%|██████████| 391/391 [01:50<00:00,  3.55it/s, loss=0.129, acc=96.6]\n",
      "Test: 100%|██████████| 79/79 [00:05<00:00, 14.93it/s, loss=1.49, acc=68.1]\n"
     ]
    },
    {
     "name": "stdout",
     "output_type": "stream",
     "text": [
      "Epoch: 39/100\n",
      "Train Loss: 0.1285 | Train Acc: 96.58%\n",
      "Test Loss: 1.4723 | Test Acc: 68.07%\n",
      "----------------------------------------------------------------------\n",
      "Saved best model to cifar100_resnet101_best.pth [Accuracy: 68.07%]\n",
      "Memory state after Epoch 39:\n",
      "GPU memory allocated: 705.53 MB\n",
      "GPU memory cached: 1462.00 MB\n",
      "Memory state before Epoch 40:\n",
      "GPU memory allocated: 705.53 MB\n",
      "GPU memory cached: 1462.00 MB\n"
     ]
    },
    {
     "name": "stderr",
     "output_type": "stream",
     "text": [
      "Epoch 40: 100%|██████████| 391/391 [01:50<00:00,  3.53it/s, loss=0.109, acc=97.3] \n",
      "Test: 100%|██████████| 79/79 [00:05<00:00, 13.84it/s, loss=1.46, acc=67.9]\n"
     ]
    },
    {
     "name": "stdout",
     "output_type": "stream",
     "text": [
      "Epoch: 40/100\n",
      "Train Loss: 0.1088 | Train Acc: 97.29%\n",
      "Test Loss: 1.4369 | Test Acc: 67.91%\n",
      "----------------------------------------------------------------------\n",
      "Saved checkpoint to cifar100_resnet101_checkpoint_epoch40.pth\n",
      "Memory state after Epoch 40:\n",
      "GPU memory allocated: 705.25 MB\n",
      "GPU memory cached: 1184.00 MB\n",
      "Memory state before Epoch 41:\n",
      "GPU memory allocated: 705.25 MB\n",
      "GPU memory cached: 1184.00 MB\n"
     ]
    },
    {
     "name": "stderr",
     "output_type": "stream",
     "text": [
      "Epoch 41: 100%|██████████| 391/391 [01:50<00:00,  3.54it/s, loss=0.0927, acc=97.8]\n",
      "Test: 100%|██████████| 79/79 [00:05<00:00, 14.73it/s, loss=1.45, acc=68.7]\n"
     ]
    },
    {
     "name": "stdout",
     "output_type": "stream",
     "text": [
      "Epoch: 41/100\n",
      "Train Loss: 0.0927 | Train Acc: 97.77%\n",
      "Test Loss: 1.4333 | Test Acc: 68.66%\n",
      "----------------------------------------------------------------------\n",
      "Saved best model to cifar100_resnet101_best.pth [Accuracy: 68.66%]\n",
      "Memory state after Epoch 41:\n",
      "GPU memory allocated: 705.53 MB\n",
      "GPU memory cached: 1462.00 MB\n",
      "Memory state before Epoch 42:\n",
      "GPU memory allocated: 705.53 MB\n",
      "GPU memory cached: 1462.00 MB\n"
     ]
    },
    {
     "name": "stderr",
     "output_type": "stream",
     "text": [
      "Epoch 42: 100%|██████████| 391/391 [01:51<00:00,  3.52it/s, loss=0.0821, acc=98.1]\n",
      "Test: 100%|██████████| 79/79 [00:05<00:00, 13.82it/s, loss=1.39, acc=69.6]\n"
     ]
    },
    {
     "name": "stdout",
     "output_type": "stream",
     "text": [
      "Epoch: 42/100\n",
      "Train Loss: 0.0821 | Train Acc: 98.12%\n",
      "Test Loss: 1.3679 | Test Acc: 69.56%\n",
      "----------------------------------------------------------------------\n",
      "Saved best model to cifar100_resnet101_best.pth [Accuracy: 69.56%]\n",
      "Memory state after Epoch 42:\n",
      "GPU memory allocated: 705.25 MB\n",
      "GPU memory cached: 1184.00 MB\n",
      "Memory state before Epoch 43:\n",
      "GPU memory allocated: 705.25 MB\n",
      "GPU memory cached: 1184.00 MB\n"
     ]
    },
    {
     "name": "stderr",
     "output_type": "stream",
     "text": [
      "Epoch 43: 100%|██████████| 391/391 [01:49<00:00,  3.57it/s, loss=0.0685, acc=98.6]\n",
      "Test: 100%|██████████| 79/79 [00:05<00:00, 14.73it/s, loss=1.4, acc=69.7] \n"
     ]
    },
    {
     "name": "stdout",
     "output_type": "stream",
     "text": [
      "Epoch: 43/100\n",
      "Train Loss: 0.0685 | Train Acc: 98.58%\n",
      "Test Loss: 1.3851 | Test Acc: 69.73%\n",
      "----------------------------------------------------------------------\n",
      "Saved best model to cifar100_resnet101_best.pth [Accuracy: 69.73%]\n",
      "Memory state after Epoch 43:\n",
      "GPU memory allocated: 705.53 MB\n",
      "GPU memory cached: 1462.00 MB\n",
      "Memory state before Epoch 44:\n",
      "GPU memory allocated: 705.53 MB\n",
      "GPU memory cached: 1462.00 MB\n"
     ]
    },
    {
     "name": "stderr",
     "output_type": "stream",
     "text": [
      "Epoch 44: 100%|██████████| 391/391 [01:51<00:00,  3.51it/s, loss=0.0603, acc=98.7]\n",
      "Test: 100%|██████████| 79/79 [00:05<00:00, 13.89it/s, loss=1.38, acc=69.8]\n"
     ]
    },
    {
     "name": "stdout",
     "output_type": "stream",
     "text": [
      "Epoch: 44/100\n",
      "Train Loss: 0.0603 | Train Acc: 98.75%\n",
      "Test Loss: 1.3673 | Test Acc: 69.79%\n",
      "----------------------------------------------------------------------\n",
      "Saved best model to cifar100_resnet101_best.pth [Accuracy: 69.79%]\n",
      "Memory state after Epoch 44:\n",
      "GPU memory allocated: 705.25 MB\n",
      "GPU memory cached: 1184.00 MB\n",
      "Memory state before Epoch 45:\n",
      "GPU memory allocated: 705.25 MB\n",
      "GPU memory cached: 1184.00 MB\n"
     ]
    },
    {
     "name": "stderr",
     "output_type": "stream",
     "text": [
      "Epoch 45: 100%|██████████| 391/391 [01:50<00:00,  3.54it/s, loss=0.0553, acc=98.9]\n",
      "Test: 100%|██████████| 79/79 [00:05<00:00, 14.96it/s, loss=1.42, acc=69.8]\n"
     ]
    },
    {
     "name": "stdout",
     "output_type": "stream",
     "text": [
      "Epoch: 45/100\n",
      "Train Loss: 0.0553 | Train Acc: 98.93%\n",
      "Test Loss: 1.4019 | Test Acc: 69.81%\n",
      "----------------------------------------------------------------------\n",
      "Saved best model to cifar100_resnet101_best.pth [Accuracy: 69.81%]\n",
      "Memory state after Epoch 45:\n",
      "GPU memory allocated: 705.53 MB\n",
      "GPU memory cached: 1462.00 MB\n",
      "Memory state before Epoch 46:\n",
      "GPU memory allocated: 705.53 MB\n",
      "GPU memory cached: 1462.00 MB\n"
     ]
    },
    {
     "name": "stderr",
     "output_type": "stream",
     "text": [
      "Epoch 46: 100%|██████████| 391/391 [01:51<00:00,  3.51it/s, loss=0.0447, acc=99.2]\n",
      "Test: 100%|██████████| 79/79 [00:05<00:00, 13.85it/s, loss=1.37, acc=70.5]\n"
     ]
    },
    {
     "name": "stdout",
     "output_type": "stream",
     "text": [
      "Epoch: 46/100\n",
      "Train Loss: 0.0447 | Train Acc: 99.25%\n",
      "Test Loss: 1.3486 | Test Acc: 70.50%\n",
      "----------------------------------------------------------------------\n",
      "Saved best model to cifar100_resnet101_best.pth [Accuracy: 70.50%]\n",
      "Memory state after Epoch 46:\n",
      "GPU memory allocated: 705.25 MB\n",
      "GPU memory cached: 1184.00 MB\n",
      "Memory state before Epoch 47:\n",
      "GPU memory allocated: 705.25 MB\n",
      "GPU memory cached: 1184.00 MB\n"
     ]
    },
    {
     "name": "stderr",
     "output_type": "stream",
     "text": [
      "Epoch 47: 100%|██████████| 391/391 [01:50<00:00,  3.53it/s, loss=0.0367, acc=99.4]\n",
      "Test: 100%|██████████| 79/79 [00:05<00:00, 14.66it/s, loss=1.35, acc=70.8]\n"
     ]
    },
    {
     "name": "stdout",
     "output_type": "stream",
     "text": [
      "Epoch: 47/100\n",
      "Train Loss: 0.0367 | Train Acc: 99.41%\n",
      "Test Loss: 1.3327 | Test Acc: 70.75%\n",
      "----------------------------------------------------------------------\n",
      "Saved best model to cifar100_resnet101_best.pth [Accuracy: 70.75%]\n",
      "Memory state after Epoch 47:\n",
      "GPU memory allocated: 705.53 MB\n",
      "GPU memory cached: 1462.00 MB\n",
      "Memory state before Epoch 48:\n",
      "GPU memory allocated: 705.53 MB\n",
      "GPU memory cached: 1462.00 MB\n"
     ]
    },
    {
     "name": "stderr",
     "output_type": "stream",
     "text": [
      "Epoch 48: 100%|██████████| 391/391 [01:51<00:00,  3.51it/s, loss=0.0329, acc=99.6]\n",
      "Test: 100%|██████████| 79/79 [00:05<00:00, 13.97it/s, loss=1.33, acc=71.3]\n"
     ]
    },
    {
     "name": "stdout",
     "output_type": "stream",
     "text": [
      "Epoch: 48/100\n",
      "Train Loss: 0.0329 | Train Acc: 99.57%\n",
      "Test Loss: 1.3126 | Test Acc: 71.34%\n",
      "----------------------------------------------------------------------\n",
      "Saved best model to cifar100_resnet101_best.pth [Accuracy: 71.34%]\n",
      "Memory state after Epoch 48:\n",
      "GPU memory allocated: 705.25 MB\n",
      "GPU memory cached: 1184.00 MB\n",
      "Memory state before Epoch 49:\n",
      "GPU memory allocated: 705.25 MB\n",
      "GPU memory cached: 1184.00 MB\n"
     ]
    },
    {
     "name": "stderr",
     "output_type": "stream",
     "text": [
      "Epoch 49: 100%|██████████| 391/391 [01:50<00:00,  3.55it/s, loss=0.0261, acc=99.7]\n",
      "Test: 100%|██████████| 79/79 [00:05<00:00, 14.69it/s, loss=1.29, acc=71.5]\n"
     ]
    },
    {
     "name": "stdout",
     "output_type": "stream",
     "text": [
      "Epoch: 49/100\n",
      "Train Loss: 0.0261 | Train Acc: 99.69%\n",
      "Test Loss: 1.2769 | Test Acc: 71.55%\n",
      "----------------------------------------------------------------------\n",
      "Saved best model to cifar100_resnet101_best.pth [Accuracy: 71.55%]\n",
      "Memory state after Epoch 49:\n",
      "GPU memory allocated: 705.53 MB\n",
      "GPU memory cached: 1462.00 MB\n",
      "Memory state before Epoch 50:\n",
      "GPU memory allocated: 705.53 MB\n",
      "GPU memory cached: 1462.00 MB\n"
     ]
    },
    {
     "name": "stderr",
     "output_type": "stream",
     "text": [
      "Epoch 50: 100%|██████████| 391/391 [01:50<00:00,  3.53it/s, loss=0.0224, acc=99.8]\n",
      "Test: 100%|██████████| 79/79 [00:05<00:00, 13.90it/s, loss=1.3, acc=71.7] \n"
     ]
    },
    {
     "name": "stdout",
     "output_type": "stream",
     "text": [
      "Epoch: 50/100\n",
      "Train Loss: 0.0224 | Train Acc: 99.77%\n",
      "Test Loss: 1.2840 | Test Acc: 71.69%\n",
      "----------------------------------------------------------------------\n",
      "Saved best model to cifar100_resnet101_best.pth [Accuracy: 71.69%]\n",
      "Saved checkpoint to cifar100_resnet101_checkpoint_epoch50.pth\n",
      "Memory state after Epoch 50:\n",
      "GPU memory allocated: 705.25 MB\n",
      "GPU memory cached: 1184.00 MB\n",
      "Memory state before Epoch 51:\n",
      "GPU memory allocated: 705.25 MB\n",
      "GPU memory cached: 1184.00 MB\n"
     ]
    },
    {
     "name": "stderr",
     "output_type": "stream",
     "text": [
      "Epoch 51: 100%|██████████| 391/391 [01:50<00:00,  3.54it/s, loss=0.0207, acc=99.8]\n",
      "Test: 100%|██████████| 79/79 [00:05<00:00, 14.82it/s, loss=1.31, acc=71.7]\n"
     ]
    },
    {
     "name": "stdout",
     "output_type": "stream",
     "text": [
      "Epoch: 51/100\n",
      "Train Loss: 0.0207 | Train Acc: 99.80%\n",
      "Test Loss: 1.2967 | Test Acc: 71.65%\n",
      "----------------------------------------------------------------------\n",
      "Memory state after Epoch 51:\n",
      "GPU memory allocated: 705.53 MB\n",
      "GPU memory cached: 1462.00 MB\n",
      "Memory state before Epoch 52:\n",
      "GPU memory allocated: 705.53 MB\n",
      "GPU memory cached: 1462.00 MB\n"
     ]
    },
    {
     "name": "stderr",
     "output_type": "stream",
     "text": [
      "Epoch 52: 100%|██████████| 391/391 [01:51<00:00,  3.51it/s, loss=0.0154, acc=99.9]\n",
      "Test: 100%|██████████| 79/79 [00:05<00:00, 13.88it/s, loss=1.27, acc=72.4]\n"
     ]
    },
    {
     "name": "stdout",
     "output_type": "stream",
     "text": [
      "Epoch: 52/100\n",
      "Train Loss: 0.0154 | Train Acc: 99.88%\n",
      "Test Loss: 1.2547 | Test Acc: 72.40%\n",
      "----------------------------------------------------------------------\n",
      "Saved best model to cifar100_resnet101_best.pth [Accuracy: 72.40%]\n",
      "Memory state after Epoch 52:\n",
      "GPU memory allocated: 705.25 MB\n",
      "GPU memory cached: 1184.00 MB\n",
      "Memory state before Epoch 53:\n",
      "GPU memory allocated: 705.25 MB\n",
      "GPU memory cached: 1184.00 MB\n"
     ]
    },
    {
     "name": "stderr",
     "output_type": "stream",
     "text": [
      "Epoch 53: 100%|██████████| 391/391 [01:50<00:00,  3.54it/s, loss=0.0145, acc=99.9]\n",
      "Test: 100%|██████████| 79/79 [00:05<00:00, 14.79it/s, loss=1.26, acc=72.5]\n"
     ]
    },
    {
     "name": "stdout",
     "output_type": "stream",
     "text": [
      "Epoch: 53/100\n",
      "Train Loss: 0.0145 | Train Acc: 99.91%\n",
      "Test Loss: 1.2413 | Test Acc: 72.47%\n",
      "----------------------------------------------------------------------\n",
      "Saved best model to cifar100_resnet101_best.pth [Accuracy: 72.47%]\n",
      "Memory state after Epoch 53:\n",
      "GPU memory allocated: 705.53 MB\n",
      "GPU memory cached: 1462.00 MB\n",
      "Memory state before Epoch 54:\n",
      "GPU memory allocated: 705.53 MB\n",
      "GPU memory cached: 1462.00 MB\n"
     ]
    },
    {
     "name": "stderr",
     "output_type": "stream",
     "text": [
      "Epoch 54: 100%|██████████| 391/391 [01:51<00:00,  3.51it/s, loss=0.0147, acc=99.9]\n",
      "Test: 100%|██████████| 79/79 [00:05<00:00, 13.86it/s, loss=1.27, acc=72.2]\n"
     ]
    },
    {
     "name": "stdout",
     "output_type": "stream",
     "text": [
      "Epoch: 54/100\n",
      "Train Loss: 0.0147 | Train Acc: 99.88%\n",
      "Test Loss: 1.2585 | Test Acc: 72.25%\n",
      "----------------------------------------------------------------------\n",
      "Memory state after Epoch 54:\n",
      "GPU memory allocated: 705.25 MB\n",
      "GPU memory cached: 1184.00 MB\n",
      "Memory state before Epoch 55:\n",
      "GPU memory allocated: 705.25 MB\n",
      "GPU memory cached: 1184.00 MB\n"
     ]
    },
    {
     "name": "stderr",
     "output_type": "stream",
     "text": [
      "Epoch 55: 100%|██████████| 391/391 [01:49<00:00,  3.56it/s, loss=0.0138, acc=99.9]\n",
      "Test: 100%|██████████| 79/79 [00:05<00:00, 14.81it/s, loss=1.25, acc=72.5]\n"
     ]
    },
    {
     "name": "stdout",
     "output_type": "stream",
     "text": [
      "Epoch: 55/100\n",
      "Train Loss: 0.0138 | Train Acc: 99.89%\n",
      "Test Loss: 1.2325 | Test Acc: 72.53%\n",
      "----------------------------------------------------------------------\n",
      "Saved best model to cifar100_resnet101_best.pth [Accuracy: 72.53%]\n",
      "Memory state after Epoch 55:\n",
      "GPU memory allocated: 705.53 MB\n",
      "GPU memory cached: 1462.00 MB\n",
      "Memory state before Epoch 56:\n",
      "GPU memory allocated: 705.53 MB\n",
      "GPU memory cached: 1462.00 MB\n"
     ]
    },
    {
     "name": "stderr",
     "output_type": "stream",
     "text": [
      "Epoch 56: 100%|██████████| 391/391 [01:51<00:00,  3.52it/s, loss=0.012, acc=99.9] \n",
      "Test: 100%|██████████| 79/79 [00:05<00:00, 13.86it/s, loss=1.24, acc=72.7]\n"
     ]
    },
    {
     "name": "stdout",
     "output_type": "stream",
     "text": [
      "Epoch: 56/100\n",
      "Train Loss: 0.0120 | Train Acc: 99.92%\n",
      "Test Loss: 1.2287 | Test Acc: 72.67%\n",
      "----------------------------------------------------------------------\n",
      "Saved best model to cifar100_resnet101_best.pth [Accuracy: 72.67%]\n",
      "Memory state after Epoch 56:\n",
      "GPU memory allocated: 705.25 MB\n",
      "GPU memory cached: 1184.00 MB\n",
      "Memory state before Epoch 57:\n",
      "GPU memory allocated: 705.25 MB\n",
      "GPU memory cached: 1184.00 MB\n"
     ]
    },
    {
     "name": "stderr",
     "output_type": "stream",
     "text": [
      "Epoch 57: 100%|██████████| 391/391 [01:50<00:00,  3.55it/s, loss=0.0108, acc=100] \n",
      "Test: 100%|██████████| 79/79 [00:05<00:00, 14.79it/s, loss=1.23, acc=72.7]\n"
     ]
    },
    {
     "name": "stdout",
     "output_type": "stream",
     "text": [
      "Epoch: 57/100\n",
      "Train Loss: 0.0108 | Train Acc: 99.95%\n",
      "Test Loss: 1.2176 | Test Acc: 72.65%\n",
      "----------------------------------------------------------------------\n",
      "Memory state after Epoch 57:\n",
      "GPU memory allocated: 705.53 MB\n",
      "GPU memory cached: 1462.00 MB\n",
      "Memory state before Epoch 58:\n",
      "GPU memory allocated: 705.53 MB\n",
      "GPU memory cached: 1462.00 MB\n"
     ]
    },
    {
     "name": "stderr",
     "output_type": "stream",
     "text": [
      "Epoch 58: 100%|██████████| 391/391 [01:51<00:00,  3.51it/s, loss=0.0107, acc=99.9]\n",
      "Test: 100%|██████████| 79/79 [00:05<00:00, 13.92it/s, loss=1.22, acc=72.8]\n"
     ]
    },
    {
     "name": "stdout",
     "output_type": "stream",
     "text": [
      "Epoch: 58/100\n",
      "Train Loss: 0.0107 | Train Acc: 99.94%\n",
      "Test Loss: 1.2044 | Test Acc: 72.77%\n",
      "----------------------------------------------------------------------\n",
      "Saved best model to cifar100_resnet101_best.pth [Accuracy: 72.77%]\n",
      "Memory state after Epoch 58:\n",
      "GPU memory allocated: 705.25 MB\n",
      "GPU memory cached: 1184.00 MB\n",
      "Memory state before Epoch 59:\n",
      "GPU memory allocated: 705.25 MB\n",
      "GPU memory cached: 1184.00 MB\n"
     ]
    },
    {
     "name": "stderr",
     "output_type": "stream",
     "text": [
      "Epoch 59: 100%|██████████| 391/391 [01:50<00:00,  3.55it/s, loss=0.0106, acc=99.9] \n",
      "Test: 100%|██████████| 79/79 [00:05<00:00, 14.75it/s, loss=1.21, acc=72.8]\n"
     ]
    },
    {
     "name": "stdout",
     "output_type": "stream",
     "text": [
      "Epoch: 59/100\n",
      "Train Loss: 0.0106 | Train Acc: 99.93%\n",
      "Test Loss: 1.1996 | Test Acc: 72.75%\n",
      "----------------------------------------------------------------------\n",
      "Memory state after Epoch 59:\n",
      "GPU memory allocated: 705.53 MB\n",
      "GPU memory cached: 1462.00 MB\n",
      "Memory state before Epoch 60:\n",
      "GPU memory allocated: 705.53 MB\n",
      "GPU memory cached: 1462.00 MB\n"
     ]
    },
    {
     "name": "stderr",
     "output_type": "stream",
     "text": [
      "Epoch 60: 100%|██████████| 391/391 [01:51<00:00,  3.50it/s, loss=0.00984, acc=100]\n",
      "Test: 100%|██████████| 79/79 [00:05<00:00, 13.87it/s, loss=1.2, acc=72.9] \n"
     ]
    },
    {
     "name": "stdout",
     "output_type": "stream",
     "text": [
      "Epoch: 60/100\n",
      "Train Loss: 0.0098 | Train Acc: 99.96%\n",
      "Test Loss: 1.1825 | Test Acc: 72.94%\n",
      "----------------------------------------------------------------------\n",
      "Saved best model to cifar100_resnet101_best.pth [Accuracy: 72.94%]\n",
      "Saved checkpoint to cifar100_resnet101_checkpoint_epoch60.pth\n",
      "Memory state after Epoch 60:\n",
      "GPU memory allocated: 705.25 MB\n",
      "GPU memory cached: 1184.00 MB\n",
      "Memory state before Epoch 61:\n",
      "GPU memory allocated: 705.25 MB\n",
      "GPU memory cached: 1184.00 MB\n"
     ]
    },
    {
     "name": "stderr",
     "output_type": "stream",
     "text": [
      "Epoch 69: 100%|██████████| 391/391 [01:50<00:00,  3.54it/s, loss=0.00765, acc=100]\n",
      "Test: 100%|██████████| 79/79 [00:05<00:00, 14.82it/s, loss=1.18, acc=72.9]\n"
     ]
    },
    {
     "name": "stdout",
     "output_type": "stream",
     "text": [
      "Epoch: 69/100\n",
      "Train Loss: 0.0076 | Train Acc: 99.96%\n",
      "Test Loss: 1.1663 | Test Acc: 72.94%\n",
      "----------------------------------------------------------------------\n",
      "Memory state after Epoch 69:\n",
      "GPU memory allocated: 705.53 MB\n",
      "GPU memory cached: 1462.00 MB\n",
      "Memory state before Epoch 70:\n",
      "GPU memory allocated: 705.53 MB\n",
      "GPU memory cached: 1462.00 MB\n"
     ]
    },
    {
     "name": "stderr",
     "output_type": "stream",
     "text": [
      "Epoch 70: 100%|██████████| 391/391 [01:51<00:00,  3.52it/s, loss=0.00769, acc=100] \n",
      "Test: 100%|██████████| 79/79 [00:05<00:00, 13.90it/s, loss=1.18, acc=73.1]\n"
     ]
    },
    {
     "name": "stdout",
     "output_type": "stream",
     "text": [
      "Epoch: 70/100\n",
      "Train Loss: 0.0077 | Train Acc: 99.96%\n",
      "Test Loss: 1.1609 | Test Acc: 73.07%\n",
      "----------------------------------------------------------------------\n",
      "Saved checkpoint to cifar100_resnet101_checkpoint_epoch70.pth\n",
      "Memory state after Epoch 70:\n",
      "GPU memory allocated: 705.25 MB\n",
      "GPU memory cached: 1184.00 MB\n",
      "Memory state before Epoch 71:\n",
      "GPU memory allocated: 705.25 MB\n",
      "GPU memory cached: 1184.00 MB\n"
     ]
    },
    {
     "name": "stderr",
     "output_type": "stream",
     "text": [
      "Epoch 71:  91%|█████████ | 356/391 [01:39<00:09,  3.59it/s, loss=0.00726, acc=100]"
     ]
    }
   ],
   "source": [
    "def train(model, device, train_loader, optimizer, criterion, epoch, scheduler=None, scaler=None):\n",
    "    \"\"\"\n",
    "    Training function for one epoch\n",
    "    \n",
    "    Args:\n",
    "        model: PyTorch model\n",
    "        device: Device to train on (cuda/cpu)\n",
    "        train_loader: DataLoader for training data\n",
    "        optimizer: PyTorch optimizer\n",
    "        criterion: Loss function\n",
    "        epoch: Current epoch number\n",
    "        scheduler: Learning rate scheduler (optional)\n",
    "        scaler: Gradient scaler for mixed precision training (optional)\n",
    "    \n",
    "    Returns:\n",
    "        average_loss, accuracy\n",
    "    \"\"\"\n",
    "    model.train()\n",
    "    running_loss = 0.0\n",
    "    correct = 0\n",
    "    total = 0\n",
    "    \n",
    "    progress_bar = tqdm(train_loader, desc=f'Epoch {epoch+1}')\n",
    "    for batch_idx, (data, target) in enumerate(progress_bar):\n",
    "        # Manually clear cache to reduce memory fragmentation\n",
    "        if torch.cuda.is_available():\n",
    "            torch.cuda.empty_cache()\n",
    "            \n",
    "        data, target = data.to(device), target.to(device)\n",
    "        \n",
    "        # Zero gradients\n",
    "        optimizer.zero_grad(set_to_none=True)\n",
    "        \n",
    "        # Mixed precision training if scaler is provided\n",
    "        if scaler is not None:\n",
    "            with torch.cuda.amp.autocast():\n",
    "                output = model(data)\n",
    "                loss = criterion(output, target)\n",
    "            \n",
    "            # Use scaler for backpropagation and optimization\n",
    "            scaler.scale(loss).backward()\n",
    "            scaler.step(optimizer)\n",
    "            scaler.update()\n",
    "        else:\n",
    "            output = model(data)\n",
    "            loss = criterion(output, target)\n",
    "            loss.backward()\n",
    "            optimizer.step()\n",
    "        \n",
    "        # Update statistics\n",
    "        running_loss += loss.item()\n",
    "        _, predicted = output.max(1)\n",
    "        total += target.size(0)\n",
    "        correct += predicted.eq(target).sum().item()\n",
    "        \n",
    "        # Clean up tensors\n",
    "        del output, loss, data, target\n",
    "        \n",
    "        # Update progress bar\n",
    "        progress_bar.set_postfix({\n",
    "            'loss': running_loss / (batch_idx + 1),\n",
    "            'acc': 100. * correct / total\n",
    "        })\n",
    "    \n",
    "    # Update learning rate\n",
    "    if scheduler is not None:\n",
    "        scheduler.step()\n",
    "    \n",
    "    return running_loss / len(train_loader), 100. * correct / total\n",
    "\n",
    "def test(model, device, test_loader, criterion, scaler=None):\n",
    "    \"\"\"\n",
    "    Evaluation function\n",
    "    \n",
    "    Args:\n",
    "        model: PyTorch model\n",
    "        device: Device to test on (cuda/cpu)\n",
    "        test_loader: DataLoader for test data\n",
    "        criterion: Loss function\n",
    "        scaler: Gradient scaler for mixed precision (optional)\n",
    "    \n",
    "    Returns:\n",
    "        average_loss, accuracy\n",
    "    \"\"\"\n",
    "    model.eval()\n",
    "    test_loss = 0\n",
    "    correct = 0\n",
    "    total = 0\n",
    "    \n",
    "    with torch.no_grad():\n",
    "        progress_bar = tqdm(test_loader, desc='Test')\n",
    "        for data, target in progress_bar:\n",
    "            # Clear cache\n",
    "            if torch.cuda.is_available():\n",
    "                torch.cuda.empty_cache()\n",
    "                \n",
    "            data, target = data.to(device), target.to(device)\n",
    "            \n",
    "            # Mixed precision if scaler is provided\n",
    "            if scaler is not None:\n",
    "                with torch.cuda.amp.autocast():\n",
    "                    output = model(data)\n",
    "                    loss = criterion(output, target)\n",
    "            else:\n",
    "                output = model(data)\n",
    "                loss = criterion(output, target)\n",
    "            \n",
    "            # Update statistics\n",
    "            test_loss += loss.item()\n",
    "            _, predicted = output.max(1)\n",
    "            total += target.size(0)\n",
    "            correct += predicted.eq(target).sum().item()\n",
    "            \n",
    "            # Clean up tensors\n",
    "            del output, loss, data, target\n",
    "            \n",
    "            # Update progress bar\n",
    "            progress_bar.set_postfix({\n",
    "                'loss': test_loss / (progress_bar.n + 1),\n",
    "                'acc': 100. * correct / total\n",
    "            })\n",
    "    \n",
    "    return test_loss / len(test_loader), 100. * correct / total\n",
    "\n",
    "# Data loading parameters\n",
    "kwargs = {'num_workers': num_workers, 'pin_memory': True} if torch.cuda.is_available() else {}\n",
    "\n",
    "# Data augmentation and preprocessing\n",
    "# Option 1: Upscale to 224x224 (for transfer learning and pretrained models)\n",
    "transform_train = transforms.Compose([\n",
    "    transforms.RandomCrop(32, padding=4),\n",
    "    transforms.RandomHorizontalFlip(),\n",
    "    transforms.Resize(224),  # Upscale to 224x224\n",
    "    transforms.ToTensor(),\n",
    "    transforms.Normalize((0.5071, 0.4867, 0.4408), (0.2675, 0.2565, 0.2761))\n",
    "])\n",
    "\n",
    "transform_test = transforms.Compose([\n",
    "    transforms.Resize(224),  # Upscale to 224x224\n",
    "    transforms.ToTensor(),\n",
    "    transforms.Normalize((0.5071, 0.4867, 0.4408), (0.2675, 0.2565, 0.2761))\n",
    "])\n",
    "\n",
    "# Load CIFAR-100 dataset\n",
    "train_dataset = datasets.CIFAR100(\n",
    "    root='./data', train=True, download=True, transform=transform_train)\n",
    "\n",
    "test_dataset = datasets.CIFAR100(\n",
    "    root='./data', train=False, download=True, transform=transform_test)\n",
    "\n",
    "train_loader = DataLoader(\n",
    "    train_dataset, batch_size=batch_size, shuffle=True, **kwargs)\n",
    "\n",
    "test_loader = DataLoader(\n",
    "    test_dataset, batch_size=test_batch_size, shuffle=False, **kwargs)\n",
    "\n",
    "# Create model\n",
    "print(f\"Using {arch} architecture\")\n",
    "model = get_model(arch, num_classes=100, use_pretrained=pretrained)\n",
    "model = model.to(device)\n",
    "\n",
    "# Print model structure\n",
    "print(model)\n",
    "\n",
    "# Define loss function and optimizer\n",
    "criterion = nn.CrossEntropyLoss()\n",
    "optimizer = optim.SGD(model.parameters(), lr=learning_rate,\n",
    "                      momentum=momentum, weight_decay=weight_decay)\n",
    "\n",
    "# Learning rate scheduler - using cosine annealing\n",
    "scheduler = optim.lr_scheduler.CosineAnnealingLR(optimizer, T_max=epochs)\n",
    "\n",
    "# Initialize mixed precision training scaler\n",
    "scaler = torch.cuda.amp.GradScaler(enabled=torch.cuda.is_available())\n",
    "\n",
    "# For recording training history\n",
    "train_losses = []\n",
    "test_losses = []\n",
    "train_accs = []\n",
    "test_accs = []\n",
    "\n",
    "# Save best model\n",
    "best_acc = 0.0\n",
    "\n",
    "# Training loop\n",
    "for epoch in range(epochs):\n",
    "    # Clear memory\n",
    "    clear_memory()\n",
    "    print(f\"Memory state before Epoch {epoch+1}:\")\n",
    "    print_gpu_memory()\n",
    "    \n",
    "    # Train and test\n",
    "    train_loss, train_acc = train(\n",
    "        model, device, train_loader, optimizer, criterion, epoch, scheduler, scaler)\n",
    "    \n",
    "    # Clear memory between train and test\n",
    "    clear_memory()\n",
    "    \n",
    "    test_loss, test_acc = test(model, device, test_loader, criterion, scaler)\n",
    "    \n",
    "    # Record history\n",
    "    train_losses.append(train_loss)\n",
    "    test_losses.append(test_loss)\n",
    "    train_accs.append(train_acc)\n",
    "    test_accs.append(test_acc)\n",
    "    \n",
    "    # Print results\n",
    "    print(f'Epoch: {epoch+1}/{epochs}')\n",
    "    print(f'Train Loss: {train_loss:.4f} | Train Acc: {train_acc:.2f}%')\n",
    "    print(f'Test Loss: {test_loss:.4f} | Test Acc: {test_acc:.2f}%')\n",
    "    print('-' * 70)\n",
    "    \n",
    "    # Save best model\n",
    "    if test_acc > best_acc:\n",
    "        best_acc = test_acc\n",
    "        if save_model:\n",
    "            # Save model\n",
    "            save_path = f'cifar100_{arch}_best.pth'\n",
    "            torch.save({\n",
    "                'epoch': epoch,\n",
    "                'model_state_dict': model.state_dict(),\n",
    "                'optimizer_state_dict': optimizer.state_dict(),\n",
    "                'scheduler_state_dict': scheduler.state_dict(),\n",
    "                'best_acc': best_acc,\n",
    "            }, save_path)\n",
    "            print(f'Saved best model to {save_path} [Accuracy: {best_acc:.2f}%]')\n",
    "    \n",
    "    # Save checkpoint every 10 epochs\n",
    "    if save_model and (epoch + 1) % 10 == 0:\n",
    "        save_path = f'cifar100_{arch}_checkpoint_epoch{epoch+1}.pth'\n",
    "        torch.save({\n",
    "            'epoch': epoch,\n",
    "            'model_state_dict': model.state_dict(),\n",
    "            'optimizer_state_dict': optimizer.state_dict(),\n",
    "            'scheduler_state_dict': scheduler.state_dict(),\n",
    "            'best_acc': best_acc,\n",
    "        }, save_path)\n",
    "        print(f'Saved checkpoint to {save_path}')\n",
    "    \n",
    "    # Clear memory after each epoch\n",
    "    clear_memory()\n",
    "    print(f\"Memory state after Epoch {epoch+1}:\")\n",
    "    print_gpu_memory()\n",
    "\n",
    "# Plot training history\n",
    "plt.figure(figsize=(12, 5))\n",
    "\n",
    "plt.subplot(1, 2, 1)\n",
    "plt.plot(train_losses, label='Train Loss')\n",
    "plt.plot(test_losses, label='Test Loss')\n",
    "plt.xlabel('Epochs')\n",
    "plt.ylabel('Loss')\n",
    "plt.legend()\n",
    "plt.title('Loss Curves')\n",
    "\n",
    "plt.subplot(1, 2, 2)\n",
    "plt.plot(train_accs, label='Train Accuracy')\n",
    "plt.plot(test_accs, label='Test Accuracy')\n",
    "plt.xlabel('Epochs')\n",
    "plt.ylabel('Accuracy (%)')\n",
    "plt.legend()\n",
    "plt.title('Accuracy Curves')\n",
    "\n",
    "plt.tight_layout()\n",
    "plt.savefig(f'cifar100_{arch}_training_curves.png')\n",
    "plt.show()\n",
    "\n",
    "# Load best model and evaluate\n",
    "print(\"Evaluating best model...\")\n",
    "checkpoint = torch.load(f'cifar100_{arch}_best.pth')\n",
    "model.load_state_dict(checkpoint['model_state_dict'])\n",
    "model.eval()\n",
    "\n",
    "test_loss, test_acc = test(model, device, test_loader, criterion)\n",
    "print(f\"Best model accuracy: {test_acc:.2f}%\")\n",
    "\n",
    "# Function to change architecture and retrain\n",
    "def change_architecture(new_arch):\n",
    "    \"\"\"\n",
    "    Function to switch to a different ResNet architecture\n",
    "    \n",
    "    Args:\n",
    "        new_arch: New architecture to use ('resnet18', 'resnet34', 'resnet50', 'resnet101')\n",
    "    \n",
    "    Returns:\n",
    "        New model\n",
    "    \"\"\"\n",
    "    global arch\n",
    "    arch = new_arch\n",
    "    print(f\"Switching to {new_arch} architecture\")\n",
    "    \n",
    "    # Clear memory\n",
    "    clear_memory()\n",
    "    \n",
    "    # Create new model\n",
    "    new_model = get_model(new_arch, num_classes=100, use_pretrained=pretrained)\n",
    "    new_model = new_model.to(device)\n",
    "    \n",
    "    return new_model\n",
    "\n",
    "# Example of how to switch architecture:\n",
    "# To use a different architecture, uncomment and run:\n",
    "# model = change_architecture('resnet34')\n",
    "# Then re-run the training loop"
   ]
  }
 ],
 "metadata": {
  "kernelspec": {
   "display_name": "Python 3 (ipykernel)",
   "language": "python",
   "name": "python3"
  },
  "language_info": {
   "codemirror_mode": {
    "name": "ipython",
    "version": 3
   },
   "file_extension": ".py",
   "mimetype": "text/x-python",
   "name": "python",
   "nbconvert_exporter": "python",
   "pygments_lexer": "ipython3",
   "version": "3.11.8"
  }
 },
 "nbformat": 4,
 "nbformat_minor": 5
}
